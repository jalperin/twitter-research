{
 "cells": [
  {
   "cell_type": "code",
   "execution_count": 1,
   "metadata": {
    "collapsed": false,
    "deletable": true,
    "editable": true
   },
   "outputs": [],
   "source": [
    "import requests\n",
    "import numpy as np\n",
    "import pandas as pd\n",
    "\n",
    "import random\n",
    "import json\n",
    "import re\n",
    "\n",
    "import datetime\n",
    "\n",
    "fetch_oadoi = False\n",
    "fetch_crossref = False\n",
    "fetch_altmetric = False\n",
    "\n",
    "%matplotlib inline\n",
    "import matplotlib\n",
    "import numpy as np\n",
    "import matplotlib.pyplot as plt"
   ]
  },
  {
   "cell_type": "code",
   "execution_count": 2,
   "metadata": {
    "collapsed": false,
    "deletable": true,
    "editable": true
   },
   "outputs": [],
   "source": [
    "df = pd.read_csv('data/cancer_news_stories.txt', sep='\\t', header=None)\n",
    "df.columns = ['created_at', 'moreover_url', 'url', 'title', 'snippet', 'altmetric_ids', 'dois', 'pmids']\n",
    "for ids in ['altmetric_ids', 'dois', 'pmids']:\n",
    "    df[ids] = df[ids].map(lambda x: ','.join(set(str(x).split(','))) if x == x else np.nan)\n",
    "df.index.name = 'story_id'\n",
    "df['created_at'] = pd.to_datetime(df.created_at)\n",
    "\n",
    "df = df[~df.dois.isnull()]"
   ]
  },
  {
   "cell_type": "code",
   "execution_count": 3,
   "metadata": {
    "collapsed": false,
    "deletable": true,
    "editable": true
   },
   "outputs": [],
   "source": [
    "df = df[df.created_at >= '2016-01-01']\n",
    "df = df[df.created_at < '2017-01-01']\n",
    "# df = df[df.has_cancer]\n",
    "# del df['has_cancer']\n",
    "\n",
    "df2 = pd.DataFrame(df.dois.str.split(',').tolist(), index=df.index).stack()\n",
    "df2.name = 'doi'\n",
    "df2.index = df2.index.droplevel(1)\n",
    "df = df.join(df2)"
   ]
  },
  {
   "cell_type": "code",
   "execution_count": 197,
   "metadata": {
    "collapsed": false,
    "deletable": true,
    "editable": true
   },
   "outputs": [],
   "source": [
    "def get_oaDOI(doi):\n",
    "    global counter\n",
    "    url = 'https://api.oadoi.org/%s' % doi\n",
    "    headers = {'Content-Type': 'application/json', \n",
    "       'Accept': 'application/json'}\n",
    "    \n",
    "    counter = counter + 1\n",
    "    if counter % 10 == 0:\n",
    "        print(counter)\n",
    "    response = None\n",
    "    try: \n",
    "        response = requests.get(url, headers=headers)\n",
    "        if response.status_code == 200:\n",
    "            return response.text\n",
    "    except Exception as e:\n",
    "        print(e)\n",
    "        print(response)\n",
    "        pass\n",
    "    return False"
   ]
  },
  {
   "cell_type": "code",
   "execution_count": 198,
   "metadata": {
    "collapsed": false,
    "deletable": true,
    "editable": true
   },
   "outputs": [],
   "source": [
    "# Stefanie \n",
    "# df2 = pd.read_csv('data/DOI_OAstatus.txt', sep='\\t')\n",
    "# df2.set_index('DOI', inplace=True)\n",
    "# df2.head()"
   ]
  },
  {
   "cell_type": "code",
   "execution_count": 199,
   "metadata": {
    "collapsed": false,
    "deletable": true,
    "editable": true
   },
   "outputs": [],
   "source": [
    "counter = 0\n",
    "\n",
    "def get_altmetric(altmetric_id):\n",
    "    global counter\n",
    "    url = 'http://api.altmetric.com/v1/doi/%s' % altmetric_id\n",
    "    headers = {'content-type': 'application/json'}\n",
    "    response = requests.post(url, headers=headers)\n",
    "    counter = counter + 1\n",
    "    if counter % 50 == 0:\n",
    "        print (counter)\n",
    "    try: \n",
    "        response = requests.get(url, headers=headers)\n",
    "        if response.status_code == 200:\n",
    "            return response.json()\n",
    "        else:\n",
    "            return False\n",
    "    except: \n",
    "        return False    "
   ]
  },
  {
   "cell_type": "code",
   "execution_count": 200,
   "metadata": {
    "collapsed": false,
    "deletable": true,
    "editable": true
   },
   "outputs": [],
   "source": [
    "counter = 0\n",
    "\n",
    "def get_crossref(doi):\n",
    "    global counter\n",
    "    url = 'https://api.crossref.org/works/%s' % doi\n",
    "    headers = {'content-type': 'application/json'}\n",
    "    response = requests.post(url, headers=headers)\n",
    "    counter = counter + 1\n",
    "    if counter % 50 == 0:\n",
    "        print (counter)\n",
    "    try: \n",
    "        response = requests.get(url, headers=headers)\n",
    "        if response.status_code == 200:\n",
    "            return response.json()\n",
    "        else:\n",
    "            return False\n",
    "    except: \n",
    "        return False    "
   ]
  },
  {
   "cell_type": "code",
   "execution_count": 4,
   "metadata": {
    "collapsed": false,
    "deletable": true,
    "editable": true
   },
   "outputs": [
    {
     "name": "stdout",
     "output_type": "stream",
     "text": [
      "since:  2016-01-01 00:00:00\n",
      "until:  2016-12-31 19:03:32\n"
     ]
    }
   ],
   "source": [
    "# Dates in dataset\n",
    "print(\"since: \", df.created_at.min())\n",
    "print(\"until: \", df.created_at.max())"
   ]
  },
  {
   "cell_type": "code",
   "execution_count": 5,
   "metadata": {
    "collapsed": false,
    "deletable": true,
    "editable": true
   },
   "outputs": [
    {
     "name": "stdout",
     "output_type": "stream",
     "text": [
      "stories:  67236\n",
      "articles:  11523\n"
     ]
    }
   ],
   "source": [
    "# Number of stories and articles\n",
    "print(\"stories: \", len(df))\n",
    "print(\"articles: \", len(df.doi.unique()))"
   ]
  },
  {
   "cell_type": "code",
   "execution_count": 6,
   "metadata": {
    "collapsed": false,
    "deletable": true,
    "editable": true
   },
   "outputs": [
    {
     "data": {
      "text/plain": [
       "count    11523.000000\n",
       "mean         5.834939\n",
       "std         14.163605\n",
       "min          1.000000\n",
       "25%          1.000000\n",
       "50%          1.000000\n",
       "75%          5.000000\n",
       "max        270.000000\n",
       "dtype: float64"
      ]
     },
     "execution_count": 6,
     "metadata": {},
     "output_type": "execute_result"
    }
   ],
   "source": [
    "# average number of stories\n",
    "df.groupby('doi').size().describe()"
   ]
  },
  {
   "cell_type": "code",
   "execution_count": 204,
   "metadata": {
    "collapsed": false,
    "deletable": true,
    "editable": true
   },
   "outputs": [],
   "source": [
    "# oaDOIresponses = filter(lambda x: type(x) == dict, dois_df)\n",
    "# print \"Discarding %s DOIs because could not fech. That's %.2f of all DOIs\" % (len(dois_df) - len(oaDOIresponses), ((len(dois_df) - len(oaDOIresponses))*100.0)/len(dois_df))\n",
    "# oaDOI = pd.DataFrame.from_records(oaDOIresponses, index='doi')\n",
    "# # print \"Discarding %s DOIs because of errors. That's %.2f of all DOIs\" % (len(oaDOI[~oaDOI.error.isnull()]), len(oaDOI[~oaDOI.error.isnull()]) * 100.0 / len(oaDOI))\n",
    "# # oaDOI = oaDOI[oaDOI.error.isnull()]\n",
    "# oaDOI.oa_color = oaDOI.oa_color.fillna('black')\n",
    "# del oaDOI['url']\n",
    "\n",
    "# df = df.merge(oaDOI, left_on='doi', right_index=True)\n"
   ]
  },
  {
   "cell_type": "code",
   "execution_count": 205,
   "metadata": {
    "collapsed": true,
    "deletable": true,
    "editable": true
   },
   "outputs": [],
   "source": [
    "if fetch_oadoi: \n",
    "    oaDOI = df['doi'].to_frame()\n",
    "    oaDOI['oaDOI_response'] = oaDOI.doi.map(get_oaDOI)"
   ]
  },
  {
   "cell_type": "code",
   "execution_count": 206,
   "metadata": {
    "collapsed": false,
    "deletable": true,
    "editable": true
   },
   "outputs": [
    {
     "data": {
      "text/html": [
       "<div>\n",
       "<table border=\"1\" class=\"dataframe\">\n",
       "  <thead>\n",
       "    <tr style=\"text-align: right;\">\n",
       "      <th></th>\n",
       "      <th>doi</th>\n",
       "      <th>oa_color</th>\n",
       "      <th>free_fulltext_url</th>\n",
       "      <th>evidence</th>\n",
       "      <th>content</th>\n",
       "    </tr>\n",
       "  </thead>\n",
       "  <tbody>\n",
       "    <tr>\n",
       "      <th>0</th>\n",
       "      <td>10.1001/archderm.148.1.122</td>\n",
       "      <td>black</td>\n",
       "      <td>NaN</td>\n",
       "      <td>closed</td>\n",
       "      <td>{\"doi\": \"10.1001/archderm.148.1.122\", \"url\": \"...</td>\n",
       "    </tr>\n",
       "    <tr>\n",
       "      <th>1</th>\n",
       "      <td>10.1001/archdermatol.2009.308</td>\n",
       "      <td>black</td>\n",
       "      <td>NaN</td>\n",
       "      <td>closed</td>\n",
       "      <td>{\"doi\": \"10.1001/archdermatol.2009.308\", \"url\"...</td>\n",
       "    </tr>\n",
       "    <tr>\n",
       "      <th>2</th>\n",
       "      <td>10.1001/archdermatol.2011.173</td>\n",
       "      <td>black</td>\n",
       "      <td>NaN</td>\n",
       "      <td>closed</td>\n",
       "      <td>{\"doi\": \"10.1001/archdermatol.2011.173\", \"url\"...</td>\n",
       "    </tr>\n",
       "    <tr>\n",
       "      <th>3</th>\n",
       "      <td>10.1001/archgenpsychiatry.2010.116</td>\n",
       "      <td>black</td>\n",
       "      <td>NaN</td>\n",
       "      <td>closed</td>\n",
       "      <td>{\"doi\": \"10.1001/archgenpsychiatry.2010.116\", ...</td>\n",
       "    </tr>\n",
       "    <tr>\n",
       "      <th>4</th>\n",
       "      <td>10.1001/archinte.161.2.277</td>\n",
       "      <td>black</td>\n",
       "      <td>NaN</td>\n",
       "      <td>closed</td>\n",
       "      <td>{\"doi\": \"10.1001/archinte.161.2.277\", \"url\": \"...</td>\n",
       "    </tr>\n",
       "  </tbody>\n",
       "</table>\n",
       "</div>"
      ],
      "text/plain": [
       "                                  doi oa_color free_fulltext_url evidence  \\\n",
       "0          10.1001/archderm.148.1.122    black               NaN   closed   \n",
       "1       10.1001/archdermatol.2009.308    black               NaN   closed   \n",
       "2       10.1001/archdermatol.2011.173    black               NaN   closed   \n",
       "3  10.1001/archgenpsychiatry.2010.116    black               NaN   closed   \n",
       "4          10.1001/archinte.161.2.277    black               NaN   closed   \n",
       "\n",
       "                                             content  \n",
       "0  {\"doi\": \"10.1001/archderm.148.1.122\", \"url\": \"...  \n",
       "1  {\"doi\": \"10.1001/archdermatol.2009.308\", \"url\"...  \n",
       "2  {\"doi\": \"10.1001/archdermatol.2011.173\", \"url\"...  \n",
       "3  {\"doi\": \"10.1001/archgenpsychiatry.2010.116\", ...  \n",
       "4  {\"doi\": \"10.1001/archinte.161.2.277\", \"url\": \"...  "
      ]
     },
     "execution_count": 206,
     "metadata": {},
     "output_type": "execute_result"
    }
   ],
   "source": [
    "# OLD\n",
    "# oaDOI = pd.read_csv('data/juan_rerun.csv')\n",
    "# oaDOI.oa_color = oaDOI.oa_color.fillna('black')\n",
    "# oaDOI.head()"
   ]
  },
  {
   "cell_type": "code",
   "execution_count": null,
   "metadata": {
    "collapsed": true,
    "deletable": true,
    "editable": true
   },
   "outputs": [],
   "source": []
  },
  {
   "cell_type": "code",
   "execution_count": 7,
   "metadata": {
    "collapsed": false,
    "deletable": true,
    "editable": true
   },
   "outputs": [],
   "source": [
    "# NEW\n",
    "oaDOI = pd.read_csv('data/oaDOI_20170615.csv')\n",
    "del oaDOI['story_id']\n",
    "oaDOI['json'] = oaDOI.oaDOI_response.map(lambda x: json.loads(x) if len(x) > 5 else False)\n",
    "\n",
    "def get_oadoi_field(x, field):\n",
    "    try: \n",
    "        return x['results'][0][field]\n",
    "    except:\n",
    "        return None\n",
    "oaDOI['oa_color'] = oaDOI.json.map(lambda x: get_oadoi_field(x, 'oa_color'))\n",
    "oaDOI['oa_color'].fillna('black', inplace=True)\n",
    "oaDOI['free_fulltext_url'] = oaDOI.json.map(lambda x: get_oadoi_field(x, 'free_fulltext_url'))\n",
    "oaDOI['evidence'] = oaDOI.json.map(lambda x: get_oadoi_field(x, 'evidence'))\n",
    "\n",
    "del oaDOI['oaDOI_response']\n",
    "del oaDOI['json']"
   ]
  },
  {
   "cell_type": "code",
   "execution_count": 6,
   "metadata": {
    "collapsed": false,
    "deletable": true,
    "editable": true
   },
   "outputs": [
    {
     "data": {
      "text/plain": [
       "oa_color\n",
       "black    6997\n",
       "blue      286\n",
       "gold     1314\n",
       "green    2926\n",
       "dtype: int64"
      ]
     },
     "execution_count": 6,
     "metadata": {},
     "output_type": "execute_result"
    }
   ],
   "source": [
    "oaDOI.groupby('oa_color').size()"
   ]
  },
  {
   "cell_type": "code",
   "execution_count": 5,
   "metadata": {
    "collapsed": false,
    "deletable": true,
    "editable": true
   },
   "outputs": [],
   "source": [
    "oaDOI[oaDOI.oa_color == 'black'].doi.to_csv('data/cancer_dois_in_news_closed.csv')"
   ]
  },
  {
   "cell_type": "code",
   "execution_count": 8,
   "metadata": {
    "collapsed": false,
    "deletable": true,
    "editable": true
   },
   "outputs": [
    {
     "data": {
      "text/plain": [
       "oa_color\n",
       "black    60.722034\n",
       "blue      2.481993\n",
       "gold     11.403280\n",
       "green    25.392693\n",
       "dtype: float64"
      ]
     },
     "execution_count": 8,
     "metadata": {},
     "output_type": "execute_result"
    }
   ],
   "source": [
    "oaDOI.groupby('oa_color').size().divide(.01*len(oaDOI))"
   ]
  },
  {
   "cell_type": "code",
   "execution_count": 9,
   "metadata": {
    "collapsed": false,
    "deletable": true,
    "editable": true
   },
   "outputs": [],
   "source": [
    "df = df.merge(oaDOI, left_on='doi', right_on='doi')\n",
    "df.set_index('doi', inplace=True)"
   ]
  },
  {
   "cell_type": "code",
   "execution_count": 10,
   "metadata": {
    "collapsed": true
   },
   "outputs": [],
   "source": [
    "df.to_csv('data/for_lauren.csv')"
   ]
  },
  {
   "cell_type": "code",
   "execution_count": 211,
   "metadata": {
    "collapsed": false,
    "deletable": true,
    "editable": true
   },
   "outputs": [],
   "source": [
    "# WARNING: fetches from CrossRef and Altmetric\n",
    "# oaDOI['crossref'] = oaDOI.index.map(get_crossref)\n",
    "# oaDOI['crossref'] = oaDOI.crossref.map(lambda r: r['message'] if r else None)\n",
    "# oaDOI['crossref_json'] = oaDOI.crossref.map(json.dumps)\n",
    "# oaDOI['altmetric'] = oaDOI.index.map(get_altmetric)\n",
    "# oaDOI['altmetric-published-date'] = oaDOI.altmetric.map(lambda x: x['published_on'] if x and 'published_on' in x.keys() else None)\n",
    "# oaDOI['altmetric-published-date'] = pd.to_datetime(oaDOI['altmetric-published-date'].multiply(1e9))\n",
    "# oaDOI['altmetric_json'] = oaDOI.altmetric.map(json.dumps)\n",
    "# oaDOI.to_csv('data/oaDOI_withcrossref_and_altmetric.csv')"
   ]
  },
  {
   "cell_type": "code",
   "execution_count": 212,
   "metadata": {
    "collapsed": false,
    "deletable": true,
    "editable": true
   },
   "outputs": [],
   "source": [
    "# oaDOI.to_csv('data/oaDOI_withcrossref_and_altmetric.csv', encoding='utf8')"
   ]
  },
  {
   "cell_type": "code",
   "execution_count": 27,
   "metadata": {
    "collapsed": false,
    "deletable": true,
    "editable": true
   },
   "outputs": [],
   "source": [
    "crossref_altmetric = pd.read_csv('data/oaDOI_withcrossref_and_altmetric.csv')\n",
    "crossref_altmetric = crossref_altmetric.set_index('doi')\n",
    "crossref_altmetric = crossref_altmetric[['crossref_json', 'altmetric-published-date']]"
   ]
  },
  {
   "cell_type": "code",
   "execution_count": 28,
   "metadata": {
    "collapsed": false,
    "deletable": true,
    "editable": true
   },
   "outputs": [],
   "source": [
    "df = df.merge(crossref_altmetric, left_index=True, right_index=True)\n",
    "df.to_csv('data/oaDOI_withcrossref_and_altmetric_rerun_20170615.csv', encoding='utf8')"
   ]
  },
  {
   "cell_type": "code",
   "execution_count": null,
   "metadata": {
    "collapsed": false,
    "deletable": true,
    "editable": true
   },
   "outputs": [],
   "source": [
    "del df['crossref_json']\n",
    "del df['dois']\n",
    "del df['pmids']\n",
    "del df['altmetric_ids']\n",
    "df.to_excel('data/oaDOI_withcrossref_and_altmetric_rerun_20170617_small.xlsx')"
   ]
  },
  {
   "cell_type": "code",
   "execution_count": null,
   "metadata": {
    "collapsed": false,
    "deletable": true,
    "editable": true
   },
   "outputs": [],
   "source": [
    "oaDOI = df"
   ]
  },
  {
   "cell_type": "code",
   "execution_count": null,
   "metadata": {
    "collapsed": false,
    "deletable": true,
    "editable": true
   },
   "outputs": [],
   "source": [
    "def get_date(c):\n",
    "    c = json.loads(c)\n",
    "    if not c:\n",
    "        return False\n",
    "    try: \n",
    "        if 'issued' in c:\n",
    "            d = c['issued']\n",
    "    except:\n",
    "        print(type(c))\n",
    "        raise\n",
    "#     if 'published-online' in c:\n",
    "#         d = c['published-online']\n",
    "#     elif  'published-print' in c: \n",
    "#         d = c['published-print']\n",
    "#     else:\n",
    "#         d = False # c['created']\n",
    "    \n",
    "    try: \n",
    "        d = d['date-parts'][0]\n",
    "        if len(d) == 1:\n",
    "            return False\n",
    "        if len(d) == 2:\n",
    "            return datetime.datetime(d[0], d[1], 1)\n",
    "    \n",
    "        return datetime.datetime(d[0], d[1], d[2])\n",
    "    except:\n",
    "        return False\n",
    "    \n",
    "\n",
    "oaDOI['published-date'] = oaDOI.crossref_json.map(get_date)\n",
    "len(oaDOI[oaDOI['published-date'].notnull()])*100./len(oaDOI)"
   ]
  },
  {
   "cell_type": "code",
   "execution_count": 218,
   "metadata": {
    "collapsed": false,
    "deletable": true,
    "editable": true
   },
   "outputs": [],
   "source": [
    "def get_min_date(x):\n",
    "    if x['published-date'] and x['altmetric-published-date']:\n",
    "        return min(x['published-date'], x['altmetric-published-date'])\n",
    "    \n",
    "    if x['published-date']:\n",
    "        return x['published-date']\n",
    "    \n",
    "    if x['altmetric-published-date']:\n",
    "        return x['altmetric-published-date']\n",
    "\n",
    "# change False to None\n",
    "oaDOI['published-date'] = oaDOI['published-date'].map(lambda x: x if x and x != 'False' else None)\n",
    "oaDOI['altmetric-published-date'] = oaDOI['altmetric-published-date'].map(lambda x: x if x and x != 'False' else None)\n",
    "\n",
    "oaDOI['published-date'] = pd.to_datetime(oaDOI['published-date'])\n",
    "oaDOI['altmetric-published-date'] = pd.to_datetime(oaDOI['altmetric-published-date'])\n",
    "\n",
    "oaDOI['earliest-pub-date'] = oaDOI.apply(get_min_date, axis=1)"
   ]
  },
  {
   "cell_type": "code",
   "execution_count": 219,
   "metadata": {
    "collapsed": false,
    "deletable": true,
    "editable": true
   },
   "outputs": [
    {
     "name": "stdout",
     "output_type": "stream",
     "text": [
      "Dropping 1793 with no dates (2.7%)\n"
     ]
    }
   ],
   "source": [
    "# try: \n",
    "#     del df['earliest-pub-date']\n",
    "# except:\n",
    "#     pass\n",
    "# df = df.merge(oaDOI[['earliest-pub-date']], left_index=True, right_index=True)\n",
    "df['days_old'] = df.apply(lambda row: row['created_at'] - row['earliest-pub-date'] if row['earliest-pub-date'] else None, axis=1)\n",
    "print(\"Dropping %s with no dates (%.1f%%)\" % (len(df[df.days_old.isnull()]), len(df[df.days_old.isnull()])*100/len(df)))\n",
    "df = df[df.days_old.notnull()]"
   ]
  },
  {
   "cell_type": "code",
   "execution_count": 220,
   "metadata": {
    "collapsed": false,
    "deletable": true,
    "editable": true
   },
   "outputs": [
    {
     "data": {
      "text/plain": [
       "count                        65093\n",
       "mean      340 days 13:18:50.108905\n",
       "std      1156 days 08:06:15.190200\n",
       "min             -29 days +04:00:00\n",
       "25%                1 days 15:49:02\n",
       "50%               14 days 20:05:16\n",
       "75%               96 days 11:00:25\n",
       "max            42878 days 20:37:08\n",
       "Name: days_old, dtype: object"
      ]
     },
     "execution_count": 220,
     "metadata": {},
     "output_type": "execute_result"
    }
   ],
   "source": [
    "df[(df.days_old.map(lambda x: x.days) >= -30)].days_old.describe()"
   ]
  },
  {
   "cell_type": "code",
   "execution_count": 221,
   "metadata": {
    "collapsed": false,
    "deletable": true,
    "editable": true
   },
   "outputs": [
    {
     "data": {
      "text/plain": [
       "count                      55325\n",
       "mean     37 days 01:17:39.871938\n",
       "std      68 days 01:01:11.798595\n",
       "min           -29 days +04:00:00\n",
       "25%              1 days 11:06:00\n",
       "50%              7 days 21:21:56\n",
       "75%             36 days 08:13:00\n",
       "max            365 days 20:37:28\n",
       "Name: days_old, dtype: object"
      ]
     },
     "execution_count": 221,
     "metadata": {},
     "output_type": "execute_result"
    }
   ],
   "source": [
    "df[(df.days_old.map(lambda x: x.days) >= -30)  & (df.days_old.map(lambda x: x.days) <= 365)].days_old.describe()"
   ]
  },
  {
   "cell_type": "code",
   "execution_count": 222,
   "metadata": {
    "collapsed": false,
    "deletable": true,
    "editable": true
   },
   "outputs": [],
   "source": [
    "tableau20_rgb = [(31, 119, 180), (174, 199, 232), (255, 127, 14), (255, 187, 120),  \n",
    "             (44, 160, 44), (152, 223, 138), (214, 39, 40), (255, 152, 150),  \n",
    "             (148, 103, 189), (197, 176, 213), (140, 86, 75), (196, 156, 148),  \n",
    "             (227, 119, 194), (247, 182, 210), (127, 127, 127), (199, 199, 199),  \n",
    "             (188, 189, 34), (219, 219, 141), (23, 190, 207), (158, 218, 229)] \n",
    "\n",
    "# Scale the RGB values to the [0, 1] range, which is the format matplotlib accepts.  \n",
    "tableau20 = {}\n",
    "for i, (r,g,b) in enumerate(tableau20_rgb):  \n",
    "    tableau20[i] = (r / 255., g / 255., b / 255.)  "
   ]
  },
  {
   "cell_type": "code",
   "execution_count": 223,
   "metadata": {
    "collapsed": false,
    "deletable": true,
    "editable": true
   },
   "outputs": [
    {
     "data": {
      "image/png": "[encoded data removed]",
      "text/plain": [
       "<matplotlib.figure.Figure at 0x115f4c518>"
      ]
     },
     "metadata": {},
     "output_type": "display_data"
    }
   ],
   "source": [
    "import locale\n",
    "locale.setlocale(locale.LC_ALL, 'en_US')\n",
    "\n",
    "\n",
    "plt.rcParams['figure.figsize'] = (12.0, 8.0)\n",
    "fig, ax = plt.subplots()\n",
    "df.days_old.map(lambda x: x.days).hist(bins=range(-30, 390, 30), color=tableau20[0], linewidth=0, ax=ax)\n",
    "ax.set_xlim([-30, 360])\n",
    "ax.set_ylim([0, 32000])\n",
    "ax.xaxis.grid(False)\n",
    "\n",
    "ax.yaxis.grid(True)\n",
    "ax.set_axisbelow(True)\n",
    "\n",
    "# Remove the plot frame lines. They are unnecessary chartjunk.  \n",
    "ax.spines[\"top\"].set_visible(False)  \n",
    "ax.spines[\"bottom\"].set_color('grey')\n",
    "ax.spines[\"right\"].set_visible(False)  \n",
    "ax.spines[\"left\"].set_color('grey')  \n",
    "\n",
    "ax.tick_params(axis=\"both\", which=\"both\", bottom=\"off\", top=\"off\",  \n",
    "                labelbottom=\"on\", left=\"off\", right=\"off\", labelleft=\"on\") \n",
    "\n",
    "plt.yticks(range(0,32500, 5000), [str(x) for x in range(0,32, 5)], color='grey', fontsize=14)  \n",
    "ax.set_ylabel('Number of stories\\n(Thousands)', color='grey', fontsize=16)\n",
    "\n",
    "ticks = plt.xticks([-15] + list(range(15, 365, 30)), ['One month before'] + ['First', 'Second', 'Third', 'Fourth', 'Fifth', 'Sixth', 'Seventh', 'Eighth', 'Ninth', 'Tenth', 'Eleventh', 'Twelfth'], rotation=45, color='grey', ha='right', fontsize=14)\n",
    "ax.set_xlabel('Months since publication', color='grey', fontsize=16)\n",
    "\n",
    "ax.set_title('How long until a news story is written?', fontsize=20)\n",
    "plt.tight_layout(rect=[0, .1, 1, 1])\n",
    "\n",
    "plt.savefig('data/months_since_publication_v2.png')"
   ]
  },
  {
   "cell_type": "code",
   "execution_count": 191,
   "metadata": {
    "collapsed": false,
    "deletable": true,
    "editable": true
   },
   "outputs": [
    {
     "name": "stderr",
     "output_type": "stream",
     "text": [
      "/usr/local/lib/python3.6/site-packages/ipykernel/__main__.py:1: SettingWithCopyWarning: \n",
      "A value is trying to be set on a copy of a slice from a DataFrame.\n",
      "Try using .loc[row_indexer,col_indexer] = value instead\n",
      "\n",
      "See the caveats in the documentation: http://pandas.pydata.org/pandas-docs/stable/indexing.html#indexing-view-versus-copy\n",
      "  if __name__ == '__main__':\n"
     ]
    }
   ],
   "source": [
    "df['bins'] = pd.cut(df.days_old.map(lambda x: x.days), range(-30, 365, 30))"
   ]
  },
  {
   "cell_type": "code",
   "execution_count": 192,
   "metadata": {
    "collapsed": false,
    "deletable": true,
    "editable": true
   },
   "outputs": [
    {
     "data": {
      "text/plain": [
       "bins\n",
       "(-30, 0]      10713\n",
       "(0, 30]       29329\n",
       "(30, 60]       5821\n",
       "(60, 90]       2590\n",
       "(90, 120]      1789\n",
       "(120, 150]      993\n",
       "(150, 180]      777\n",
       "(180, 210]      687\n",
       "(210, 240]      601\n",
       "(240, 270]      566\n",
       "(270, 300]      427\n",
       "(300, 330]      565\n",
       "(330, 360]      390\n",
       "dtype: int64"
      ]
     },
     "execution_count": 192,
     "metadata": {},
     "output_type": "execute_result"
    }
   ],
   "source": [
    "df.groupby('bins').size()"
   ]
  },
  {
   "cell_type": "code",
   "execution_count": 193,
   "metadata": {
    "collapsed": false,
    "deletable": true,
    "editable": true
   },
   "outputs": [
    {
     "ename": "AttributeError",
     "evalue": "'DataFrame' object has no attribute 'crossref'",
     "output_type": "error",
     "traceback": [
      "\u001b[0;31m---------------------------------------------------------------------------\u001b[0m",
      "\u001b[0;31mAttributeError\u001b[0m                            Traceback (most recent call last)",
      "\u001b[0;32m<ipython-input-193-dce52622139b>\u001b[0m in \u001b[0;36m<module>\u001b[0;34m()\u001b[0m\n\u001b[0;32m----> 1\u001b[0;31m \u001b[0moaDOI\u001b[0m\u001b[0;34m[\u001b[0m\u001b[0;34m'funder'\u001b[0m\u001b[0;34m]\u001b[0m \u001b[0;34m=\u001b[0m \u001b[0moaDOI\u001b[0m\u001b[0;34m.\u001b[0m\u001b[0mcrossref\u001b[0m\u001b[0;34m.\u001b[0m\u001b[0mmap\u001b[0m\u001b[0;34m(\u001b[0m\u001b[0;32mlambda\u001b[0m \u001b[0mr\u001b[0m\u001b[0;34m:\u001b[0m \u001b[0mr\u001b[0m\u001b[0;34m[\u001b[0m\u001b[0;34m'funder'\u001b[0m\u001b[0;34m]\u001b[0m \u001b[0;32mif\u001b[0m \u001b[0mr\u001b[0m \u001b[0;32mand\u001b[0m \u001b[0;34m'funder'\u001b[0m \u001b[0;32min\u001b[0m \u001b[0mr\u001b[0m \u001b[0;32melse\u001b[0m \u001b[0;32mNone\u001b[0m\u001b[0;34m)\u001b[0m\u001b[0;34m\u001b[0m\u001b[0m\n\u001b[0m\u001b[1;32m      2\u001b[0m \u001b[0;34m\u001b[0m\u001b[0m\n\u001b[1;32m      3\u001b[0m \u001b[0mfunders\u001b[0m \u001b[0;34m=\u001b[0m \u001b[0moaDOI\u001b[0m\u001b[0;34m[\u001b[0m\u001b[0;34m~\u001b[0m\u001b[0moaDOI\u001b[0m\u001b[0;34m.\u001b[0m\u001b[0mfunder\u001b[0m\u001b[0;34m.\u001b[0m\u001b[0misnull\u001b[0m\u001b[0;34m(\u001b[0m\u001b[0;34m)\u001b[0m\u001b[0;34m]\u001b[0m\u001b[0;34m.\u001b[0m\u001b[0mfunder\u001b[0m\u001b[0;34m.\u001b[0m\u001b[0mmap\u001b[0m\u001b[0;34m(\u001b[0m\u001b[0;32mlambda\u001b[0m \u001b[0mx\u001b[0m\u001b[0;34m:\u001b[0m \u001b[0;34m[\u001b[0m\u001b[0mf\u001b[0m\u001b[0;34m[\u001b[0m\u001b[0;34m'name'\u001b[0m\u001b[0;34m]\u001b[0m \u001b[0;32mif\u001b[0m \u001b[0;34m'name'\u001b[0m \u001b[0;32min\u001b[0m \u001b[0mf\u001b[0m \u001b[0;32melse\u001b[0m \u001b[0;32mNone\u001b[0m \u001b[0;32mfor\u001b[0m \u001b[0mf\u001b[0m \u001b[0;32min\u001b[0m \u001b[0mx\u001b[0m\u001b[0;34m]\u001b[0m\u001b[0;34m)\u001b[0m\u001b[0;34m\u001b[0m\u001b[0m\n\u001b[1;32m      4\u001b[0m \u001b[0mfunders\u001b[0m\u001b[0;34m[\u001b[0m\u001b[0mfunders\u001b[0m\u001b[0;34m.\u001b[0m\u001b[0mmap\u001b[0m\u001b[0;34m(\u001b[0m\u001b[0;32mlambda\u001b[0m \u001b[0mf\u001b[0m\u001b[0;34m:\u001b[0m \u001b[0;34m'National Institute'\u001b[0m \u001b[0;32min\u001b[0m \u001b[0mf\u001b[0m\u001b[0;34m)\u001b[0m\u001b[0;34m]\u001b[0m\u001b[0;34m\u001b[0m\u001b[0m\n",
      "\u001b[0;32m/usr/local/lib/python3.6/site-packages/pandas/core/generic.py\u001b[0m in \u001b[0;36m__getattr__\u001b[0;34m(self, name)\u001b[0m\n\u001b[1;32m   2742\u001b[0m             \u001b[0;32mif\u001b[0m \u001b[0mname\u001b[0m \u001b[0;32min\u001b[0m \u001b[0mself\u001b[0m\u001b[0;34m.\u001b[0m\u001b[0m_info_axis\u001b[0m\u001b[0;34m:\u001b[0m\u001b[0;34m\u001b[0m\u001b[0m\n\u001b[1;32m   2743\u001b[0m                 \u001b[0;32mreturn\u001b[0m \u001b[0mself\u001b[0m\u001b[0;34m[\u001b[0m\u001b[0mname\u001b[0m\u001b[0;34m]\u001b[0m\u001b[0;34m\u001b[0m\u001b[0m\n\u001b[0;32m-> 2744\u001b[0;31m             \u001b[0;32mreturn\u001b[0m \u001b[0mobject\u001b[0m\u001b[0;34m.\u001b[0m\u001b[0m__getattribute__\u001b[0m\u001b[0;34m(\u001b[0m\u001b[0mself\u001b[0m\u001b[0;34m,\u001b[0m \u001b[0mname\u001b[0m\u001b[0;34m)\u001b[0m\u001b[0;34m\u001b[0m\u001b[0m\n\u001b[0m\u001b[1;32m   2745\u001b[0m \u001b[0;34m\u001b[0m\u001b[0m\n\u001b[1;32m   2746\u001b[0m     \u001b[0;32mdef\u001b[0m \u001b[0m__setattr__\u001b[0m\u001b[0;34m(\u001b[0m\u001b[0mself\u001b[0m\u001b[0;34m,\u001b[0m \u001b[0mname\u001b[0m\u001b[0;34m,\u001b[0m \u001b[0mvalue\u001b[0m\u001b[0;34m)\u001b[0m\u001b[0;34m:\u001b[0m\u001b[0;34m\u001b[0m\u001b[0m\n",
      "\u001b[0;31mAttributeError\u001b[0m: 'DataFrame' object has no attribute 'crossref'"
     ]
    }
   ],
   "source": [
    "oaDOI['funder'] = oaDOI.crossref.map(lambda r: r['funder'] if r and 'funder' in r else None)\n",
    "\n",
    "funders = oaDOI[~oaDOI.funder.isnull()].funder.map(lambda x: [f['name'] if 'name' in f else None for f in x])\n",
    "funders[funders.map(lambda f: 'National Institute' in f)]"
   ]
  },
  {
   "cell_type": "code",
   "execution_count": null,
   "metadata": {
    "collapsed": false,
    "deletable": true,
    "editable": true
   },
   "outputs": [],
   "source": [
    "df = df.reset_index()"
   ]
  },
  {
   "cell_type": "code",
   "execution_count": null,
   "metadata": {
    "collapsed": false,
    "deletable": true,
    "editable": true
   },
   "outputs": [],
   "source": [
    "# number of stories by different limits\n",
    "df_lims = {}\n",
    "for lim in [0, 10, 25, 50]:\n",
    "    df_lims[lim] = df.groupby('doi').filter(lambda x: len(x) >= lim)\n",
    "    print \"At least %s: %s\" % (lim, len(df_lims[lim].doi.unique()))"
   ]
  },
  {
   "cell_type": "code",
   "execution_count": null,
   "metadata": {
    "collapsed": false,
    "deletable": true,
    "editable": true
   },
   "outputs": [],
   "source": [
    "df = df.reset_index()"
   ]
  },
  {
   "cell_type": "code",
   "execution_count": null,
   "metadata": {
    "collapsed": false,
    "deletable": true,
    "editable": true
   },
   "outputs": [],
   "source": [
    "df = df.merge(oaDOI, left_on='doi', right_index=True)"
   ]
  },
  {
   "cell_type": "code",
   "execution_count": null,
   "metadata": {
    "collapsed": false,
    "deletable": true,
    "editable": true
   },
   "outputs": [],
   "source": [
    "oa_mentions = {}\n",
    "for lim in range(0, 60, 10):\n",
    "    df2 = df.groupby('doi').filter(lambda x: len(x) >= lim)\n",
    "    oa_color = df2[['doi', 'oa_color']].drop_duplicates().set_index('doi')\n",
    "    oa_color = oa_color.groupby('oa_color').size().multiply(100.0).divide(len(oa_color))\n",
    "    oa_mentions[lim] = oa_color['gold']\n",
    "    print \"At least %s: %s articles of which %.2f%% are OA\" % (lim, len(df2.doi.unique()), oa_mentions[lim])\n",
    "#     print oa_color.to_string()\n",
    "#     print"
   ]
  },
  {
   "cell_type": "code",
   "execution_count": null,
   "metadata": {
    "collapsed": false,
    "deletable": true,
    "editable": true
   },
   "outputs": [],
   "source": [
    "df[['doi', 'oa_color']].drop_duplicates().set_index('doi').groupby('oa_color').size().divide(.01*11044).map(lambda x: \"%.2f%%\" % x)"
   ]
  },
  {
   "cell_type": "code",
   "execution_count": null,
   "metadata": {
    "collapsed": false,
    "deletable": true,
    "editable": true
   },
   "outputs": [],
   "source": [
    "oa_color = df[['doi', 'oa_color']].drop_duplicates().set_index('doi')"
   ]
  },
  {
   "cell_type": "code",
   "execution_count": null,
   "metadata": {
    "collapsed": false,
    "deletable": true,
    "editable": true
   },
   "outputs": [],
   "source": [
    "df[['doi', 'oa_color']].head()"
   ]
  },
  {
   "cell_type": "code",
   "execution_count": null,
   "metadata": {
    "collapsed": false,
    "deletable": true,
    "editable": true
   },
   "outputs": [],
   "source": [
    "print len(df[['doi', 'oa_color']])\n",
    "print len(df[['doi', 'oa_color']].drop_duplicates())\n",
    "print len(oa_color)\n",
    "print oa_color.groupby('oa_color').size().divide(len(oa_color)*.01)"
   ]
  },
  {
   "cell_type": "code",
   "execution_count": null,
   "metadata": {
    "collapsed": false,
    "deletable": true,
    "editable": true
   },
   "outputs": [],
   "source": [
    "df[['doi', 'oa_color', 'evidence']].drop_duplicates().groupby(['oa_color', 'evidence']).size().sort_index()"
   ]
  },
  {
   "cell_type": "code",
   "execution_count": null,
   "metadata": {
    "collapsed": false,
    "deletable": true,
    "editable": true
   },
   "outputs": [],
   "source": [
    "num_mentions = df.groupby('doi').size()\n",
    "num_mentions.name = 'num_mentions'"
   ]
  },
  {
   "cell_type": "code",
   "execution_count": null,
   "metadata": {
    "collapsed": false,
    "deletable": true,
    "editable": true
   },
   "outputs": [],
   "source": [
    "oa_color = df.set_index('doi').join(num_mentions).reset_index()[['doi', 'oa_color', 'num_mentions']].drop_duplicates().set_index('doi')\n",
    "oa_color = oa_color[~oa_color.num_mentions.isnull()]\n",
    "oa_color['doi_as_link'] = oa_color.index.map(lambda doi: \"http://doi.org/%s\" % doi)"
   ]
  },
  {
   "cell_type": "code",
   "execution_count": null,
   "metadata": {
    "collapsed": false,
    "deletable": true,
    "editable": true
   },
   "outputs": [],
   "source": [
    "oa_color.sort_values('num_mentions', ascending=False).to_csv('data/news_story_dois_oastatus.csv')"
   ]
  },
  {
   "cell_type": "code",
   "execution_count": null,
   "metadata": {
    "collapsed": false,
    "deletable": true,
    "editable": true
   },
   "outputs": [],
   "source": [
    "gb = oa_color.groupby(['num_mentions', 'oa_color'])\n",
    "# gb.size().unstack().apply(lambda row: row['gold']*100.0/sum(row), axis=1)"
   ]
  },
  {
   "cell_type": "code",
   "execution_count": null,
   "metadata": {
    "collapsed": false,
    "deletable": true,
    "editable": true
   },
   "outputs": [],
   "source": [
    "pylab.rcParams['figure.figsize'] = (12.0, 8.0)\n",
    "df3 = gb.size().unstack().fillna(0).apply(lambda row: row['gold']*100.0/sum(row), axis=1)\n",
    "area = np.pi * (10+log(oa_color.groupby('num_mentions').size().divide(len(oa_color))))**2\n",
    "fig, ax = plt.subplots()\n",
    "plt.scatter(df3.index, df3, s=area)\n",
    "ax.set_xlim([0,300])\n",
    "ax.set_ylim([-.5, 105])\n",
    "ax.set_xlabel('exactly x mentions')\n",
    "ax.set_ylabel('% OA')"
   ]
  },
  {
   "cell_type": "code",
   "execution_count": null,
   "metadata": {
    "collapsed": false,
    "deletable": true,
    "editable": true
   },
   "outputs": [],
   "source": [
    "fig, ax = plt.subplots()\n",
    "\n",
    "df3 = gb.size().unstack().fillna(0).sort_index(ascending=False).cumsum().sort_index()\n",
    "\n",
    "# ax = df3.sum(axis=1).plot.bar()\n",
    "area = np.pi*log(df3.sum(axis=1))**2\n",
    "\n",
    "# errors = df3.apply(lambda row: row['gold']/float(sum(row)), axis=1).map(lambda x: x*(1-x)).divide(df3.sum(axis=1)).map(np.sqrt).multiply(100)\n",
    "df3.apply(lambda row: row['gold']*100.0/sum(row), axis=1).reset_index().plot.scatter(x='num_mentions', y=0, title=\"% OA by minimum number of news mentions\", s=30, xlim=[0,150], alpha=.5, ax=ax)\n",
    "\n",
    "ax.set_xlim([0, 165])\n",
    "# ax.set_ylim([0, 32000])\n",
    "ax.xaxis.grid(False)\n",
    "\n",
    "ax.yaxis.grid(True)\n",
    "ax.set_axisbelow(True)\n",
    "\n",
    "# Remove the plot frame lines. They are unnecessary chartjunk.  \n",
    "ax.spines[\"top\"].set_visible(False)  \n",
    "ax.spines[\"bottom\"].set_color('grey')\n",
    "ax.spines[\"right\"].set_visible(False)  \n",
    "ax.spines[\"left\"].set_color('grey')  \n",
    "\n",
    "ax.tick_params(axis=\"both\", which=\"both\", bottom=\"off\", top=\"off\",  \n",
    "                labelbottom=\"on\", left=\"off\", right=\"off\", labelleft=\"on\") \n",
    "\n",
    "\n",
    "\n",
    "# ax.set_xlim([0,df3.index.max()+5])\n",
    "\n",
    "# ax2 = ax.twinx()\n",
    "# # area = np.pi * (15*())**2\n",
    "\n",
    "ax.set_ylim([0,105])\n",
    "ax.set_xlabel('at least x mentions')\n",
    "ax.set_ylabel('% OA')\n",
    "\n",
    "plt.savefig('data/oa_by_min_mentions.png')\n",
    "\n",
    "# # ax2 = plt.scatter(df3.index, , s=30)\n",
    "\n",
    "\n"
   ]
  },
  {
   "cell_type": "code",
   "execution_count": null,
   "metadata": {
    "collapsed": false,
    "deletable": true,
    "editable": true
   },
   "outputs": [],
   "source": [
    "# Number of Gold OA for articles with at least 50 mentions\n",
    "df3 = oa_color[oa_color.num_mentions >= 50].groupby(['num_mentions', 'oa_color']).size().unstack().fillna(0).sort_index(ascending=False).cumsum().sort_index()\n",
    "print \"%.2f%% gold OA\" % (df3['gold'].sum() * 100.0 / df3.sum(axis=1).sum())\n",
    "print \"%.2f%% green\" % (df3['green'].sum() * 100.0 / df3.sum(axis=1).sum())"
   ]
  },
  {
   "cell_type": "code",
   "execution_count": null,
   "metadata": {
    "collapsed": false,
    "deletable": true,
    "editable": true
   },
   "outputs": [],
   "source": [
    "from urlparse import urlparse\n",
    "df['url'] = df.apply(lambda row: row['url'] if row['url'] == row['url'] else row['moreover_url'], axis=1)\n",
    "df['domain'] = df.url.map(lambda url: re.sub('^www\\.', '', urlparse(url).netloc) if url == url else np.nan)"
   ]
  },
  {
   "cell_type": "code",
   "execution_count": null,
   "metadata": {
    "collapsed": false,
    "deletable": true,
    "editable": true
   },
   "outputs": [],
   "source": [
    "df.groupby('domain').size().describe()['75%']"
   ]
  },
  {
   "cell_type": "code",
   "execution_count": null,
   "metadata": {
    "collapsed": false,
    "deletable": true,
    "editable": true
   },
   "outputs": [],
   "source": [
    "# Top 25% of domain names\n",
    "df.groupby('domain').filter(lambda x: len(x) > 100).groupby('domain').size().sort_values(ascending=False)"
   ]
  },
  {
   "cell_type": "code",
   "execution_count": null,
   "metadata": {
    "collapsed": false,
    "deletable": true,
    "editable": true
   },
   "outputs": [],
   "source": [
    "domains = ['nytimes.com', 'washingtonpost.com', 'slate.com', 'huffingtonpost.com', 'theatlantic.com', 'theguardian.com', 'salon.com', 'latimes.com', 'foxnews.com', 'npr.org']\n",
    "\n",
    "for d in domains: \n",
    "    domain_df = df[df.domain.str.contains(d)]\n",
    "    print \"Domain: \", d, [x for x in domain_df.domain.unique()]\n",
    "    print \"%s articles\" % len(domain_df)\n",
    "    print \"%.2f%% OA\" % domain_df.groupby('oa_color').size().multiply(100.0).divide(len(domain_df))['gold']\n",
    "    print\n",
    "del domain_df"
   ]
  },
  {
   "cell_type": "code",
   "execution_count": null,
   "metadata": {
    "collapsed": false,
    "deletable": true,
    "editable": true
   },
   "outputs": [],
   "source": [
    "sample_10p.groupby('classification').size().multiply(100.0).div(len(sample_10p)).plot.bar()"
   ]
  },
  {
   "cell_type": "code",
   "execution_count": null,
   "metadata": {
    "collapsed": false,
    "deletable": true,
    "editable": true
   },
   "outputs": [],
   "source": [
    "sample_10p.groupby('dissmin_classification').size().multiply(100.0).div(len(sample_10p))"
   ]
  },
  {
   "cell_type": "code",
   "execution_count": null,
   "metadata": {
    "collapsed": false,
    "deletable": true,
    "editable": true
   },
   "outputs": [],
   "source": [
    "sample_10p.groupby('classification').size().multiply(100.0).div(len(sample_10p))"
   ]
  },
  {
   "cell_type": "code",
   "execution_count": null,
   "metadata": {
    "collapsed": false,
    "deletable": true,
    "editable": true
   },
   "outputs": [],
   "source": [
    "first_story = df.sort_values(by='posted_on:conv').groupby('citation:doi').first()"
   ]
  },
  {
   "cell_type": "code",
   "execution_count": null,
   "metadata": {
    "collapsed": false,
    "deletable": true,
    "editable": true
   },
   "outputs": [],
   "source": [
    "df3 = oa_color[oa_color.num_mentions >= 100].groupby(['num_mentions', 'oa_color']).size().unstack().fillna(0).sort_index(ascending=False).cumsum().sort_index()"
   ]
  },
  {
   "cell_type": "code",
   "execution_count": null,
   "metadata": {
    "collapsed": false,
    "deletable": true,
    "editable": true
   },
   "outputs": [],
   "source": [
    "df3.head()"
   ]
  },
  {
   "cell_type": "code",
   "execution_count": null,
   "metadata": {
    "collapsed": false,
    "deletable": true,
    "editable": true
   },
   "outputs": [],
   "source": [
    "df3.apply(lambda row: row['gold']/float(sum(row)), axis=1).map(lambda x: x*(1-x)).divide(df3.sum(axis=1)).map(np.sqrt).multiply(100)"
   ]
  },
  {
   "cell_type": "code",
   "execution_count": null,
   "metadata": {
    "collapsed": false,
    "deletable": true,
    "editable": true
   },
   "outputs": [],
   "source": [
    "oa_color = df.set_index('doi').join(num_mentions).reset_index()[['doi', 'oa_color', 'num_mentions']].drop_duplicates().set_index('doi')\n",
    "oa_color = oa_color[~oa_color.num_mentions.isnull()]\n",
    "\n",
    "oa_color.to_csv('data/top50news_oadoi_status.csv', sep=\"\\t\")"
   ]
  },
  {
   "cell_type": "code",
   "execution_count": null,
   "metadata": {
    "collapsed": false,
    "deletable": true,
    "editable": true
   },
   "outputs": [],
   "source": [
    "\n",
    "b"
   ]
  },
  {
   "cell_type": "code",
   "execution_count": null,
   "metadata": {
    "collapsed": false,
    "deletable": true,
    "editable": true
   },
   "outputs": [],
   "source": [
    "gb = first_story.join(sample_10p.set_index('doi'))\n",
    "gb['year'] = gb['posted_on:conv'].map(lambda x: x.year)\n",
    "gb = gb[gb.year > 2011]\n",
    "gb = gb[gb.classification.notnull()].groupby(['year', 'classification']).size()"
   ]
  },
  {
   "cell_type": "code",
   "execution_count": null,
   "metadata": {
    "collapsed": false,
    "deletable": true,
    "editable": true
   },
   "outputs": [],
   "source": [
    "tmp = gb.multiply(100.0).divide(gb.groupby(level=0).sum()).unstack()"
   ]
  },
  {
   "cell_type": "code",
   "execution_count": null,
   "metadata": {
    "collapsed": false,
    "deletable": true,
    "editable": true
   },
   "outputs": [],
   "source": [
    "tmp.index = [2012,2013,2014]"
   ]
  },
  {
   "cell_type": "code",
   "execution_count": null,
   "metadata": {
    "collapsed": false,
    "deletable": true,
    "editable": true
   },
   "outputs": [],
   "source": [
    "response = get_crossref('http://api.crossref.org/works/10.1016/j.neuroscience.2015.10.035')"
   ]
  },
  {
   "cell_type": "code",
   "execution_count": null,
   "metadata": {
    "collapsed": false,
    "deletable": true,
    "editable": true
   },
   "outputs": [],
   "source": [
    "# for stef\n",
    "len(df.index.tolist())"
   ]
  },
  {
   "cell_type": "code",
   "execution_count": null,
   "metadata": {
    "collapsed": false,
    "deletable": true,
    "editable": true
   },
   "outputs": [],
   "source": [
    "responses = []\n",
    "for i in range(0, 40, 25):    \n",
    "    dois = df.iloc[i:i+25].apply(lambda x: ''.join(x.index)).tolist()\n",
    "    responses += get_oaDOIs(dois)\n"
   ]
  },
  {
   "cell_type": "code",
   "execution_count": null,
   "metadata": {
    "collapsed": false,
    "deletable": true,
    "editable": true
   },
   "outputs": [],
   "source": [
    "len(responses)"
   ]
  },
  {
   "cell_type": "code",
   "execution_count": null,
   "metadata": {
    "collapsed": false,
    "deletable": true,
    "editable": true
   },
   "outputs": [],
   "source": [
    "oaDOI = pd.DataFrame.from_records(responses, index='doi')\n",
    "print \"Discarding %s DOIs because of errors. That's %.2f of all DOIs\" % (len(oaDOI[~oaDOI.error.isnull()]), len(oaDOI[~oaDOI.error.isnull()]) * 100.0 / len(oaDOI))\n",
    "oaDOI = oaDOI[oaDOI.error.isnull()]\n",
    "oaDOI.oa_color = oaDOI.oa_color.fillna('black')\n",
    "\n",
    "df2 = df.join(oaDOI)"
   ]
  },
  {
   "cell_type": "code",
   "execution_count": null,
   "metadata": {
    "collapsed": false,
    "deletable": true,
    "editable": true
   },
   "outputs": [],
   "source": [
    "df = pd.read_csv('data/oaDOI_withcrossref_and_altmetric.csv')"
   ]
  },
  {
   "cell_type": "code",
   "execution_count": null,
   "metadata": {
    "collapsed": false,
    "deletable": true,
    "editable": true
   },
   "outputs": [],
   "source": [
    "df_new = df[[u'doi', u'doi_resolver', u'license', u'free_fulltext_url', u'is_free_to_read', u'is_boai_license', u'is_subscription_journal', u'oa_color', u'evidence', u'_title']].drop_duplicates().set_index('doi')\n",
    "print len(df_new)\n",
    "df_new.to_csv('data/new_oaDOI_responses.csv', encoding='utf8')"
   ]
  },
  {
   "cell_type": "code",
   "execution_count": null,
   "metadata": {
    "collapsed": false,
    "deletable": true,
    "editable": true
   },
   "outputs": [],
   "source": [
    "df_old = pd.read_csv('data/oaDOI_withcrossref.csv', encoding='utf8')\n",
    "df_old.set_index('doi', inplace=True)\n",
    "df_old.groupby('oa_color').size().divide(len(df_old)*.01)"
   ]
  },
  {
   "cell_type": "code",
   "execution_count": null,
   "metadata": {
    "collapsed": false,
    "deletable": true,
    "editable": true
   },
   "outputs": [],
   "source": [
    "df_new.merge(df_old, how='left', left_index=True, right_index=True, suffixes=('_new', '_old')).to_csv('data/oaDOIcomparison.csv', encoding='utf8')"
   ]
  },
  {
   "cell_type": "code",
   "execution_count": null,
   "metadata": {
    "collapsed": false,
    "deletable": true,
    "editable": true
   },
   "outputs": [],
   "source": [
    "cp = df_new.merge(df_old, how='left', left_index=True, right_index=True, suffixes=('_new', '_old'))"
   ]
  },
  {
   "cell_type": "code",
   "execution_count": null,
   "metadata": {
    "collapsed": false,
    "deletable": true,
    "editable": true
   },
   "outputs": [],
   "source": [
    "cp[cp['oa_color_old'] != cp['oa_color_new']][['oa_color_new', 'evidence_new', 'oa_color_old', 'evidence_old']]"
   ]
  },
  {
   "cell_type": "code",
   "execution_count": null,
   "metadata": {
    "collapsed": false,
    "deletable": true,
    "editable": true
   },
   "outputs": [],
   "source": [
    "df_compare = pd.read_csv('data/oaDOIcomparison.csv', encoding='utf8')"
   ]
  },
  {
   "cell_type": "code",
   "execution_count": null,
   "metadata": {
    "collapsed": false,
    "deletable": true,
    "editable": true
   },
   "outputs": [],
   "source": [
    "df_compare.groupby('oa_color_old').size()"
   ]
  },
  {
   "cell_type": "code",
   "execution_count": null,
   "metadata": {
    "collapsed": false,
    "deletable": true,
    "editable": true
   },
   "outputs": [],
   "source": [
    "df_change = df_compare[df_compare['oa_color_old'] == 'gold'][['evidence_old', 'oa_color_new', 'evidence_new']]"
   ]
  },
  {
   "cell_type": "code",
   "execution_count": null,
   "metadata": {
    "collapsed": false,
    "deletable": true,
    "editable": true
   },
   "outputs": [],
   "source": [
    "df_change.groupby('oa_color_new').size()"
   ]
  },
  {
   "cell_type": "code",
   "execution_count": null,
   "metadata": {
    "collapsed": false,
    "deletable": true,
    "editable": true
   },
   "outputs": [],
   "source": [
    "df_change[df_change.oa_color_new != 'gold'].groupby('evidence_new').size()"
   ]
  },
  {
   "cell_type": "code",
   "execution_count": null,
   "metadata": {
    "collapsed": false,
    "scrolled": false
   },
   "outputs": [],
   "source": [
    "df.merge(oaDOI, left_on='doi', right_on='doi').to_excel('data/for_lauren.xlsx')"
   ]
  }
 ],
 "metadata": {
  "kernelspec": {
   "display_name": "Python 3",
   "language": "python",
   "name": "python3"
  },
  "language_info": {
   "codemirror_mode": {
    "name": "ipython",
    "version": 3
   },
   "file_extension": ".py",
   "mimetype": "text/x-python",
   "name": "python",
   "nbconvert_exporter": "python",
   "pygments_lexer": "ipython3",
   "version": "3.6.0"
  }
 },
 "nbformat": 4,
 "nbformat_minor": 0
}
