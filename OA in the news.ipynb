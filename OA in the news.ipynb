{
 "metadata": {
  "name": ""
 },
 "nbformat": 3,
 "nbformat_minor": 0,
 "worksheets": [
  {
   "cells": [
    {
     "cell_type": "code",
     "collapsed": false,
     "input": [
      "import requests\n",
      "import numpy as np\n",
      "import pandas as pd\n",
      "\n",
      "import random\n",
      "import json\n",
      "import re\n",
      "\n",
      "import cPickle\n",
      "\n",
      "# plt.style.use('ggplot')\n",
      "# plt.style.use('default')"
     ],
     "language": "python",
     "metadata": {},
     "outputs": [],
     "prompt_number": 1
    },
    {
     "cell_type": "code",
     "collapsed": false,
     "input": [
      "df = pd.read_csv('data/cancer_news_stories.txt', sep='\\t', header=None)\n",
      "df.columns = ['created_at', 'moreover_url', 'url', 'title', 'snippet', 'altmetric_ids', 'dois', 'pmids']\n",
      "for ids in ['altmetric_ids', 'dois', 'pmids']:\n",
      "    df[ids] = df[ids].map(lambda x: ','.join(set(str(x).split(','))) if x == x else np.nan)\n",
      "df.index.name = 'story_id'\n",
      "df['created_at'] = pd.to_datetime(df.created_at)\n",
      "\n",
      "df = df[~df.dois.isnull()]"
     ],
     "language": "python",
     "metadata": {},
     "outputs": [],
     "prompt_number": 2
    },
    {
     "cell_type": "code",
     "collapsed": false,
     "input": [
      "# word_boundaries_regex = re.compile('[^\\w]+', re.IGNORECASE)\n",
      "# cancer_regex = re.compile('cancer((ous)|s)? ', re.IGNORECASE)\n",
      "\n",
      "# def find_cancer(row):\n",
      "#     t = ''\n",
      "#     s = ''\n",
      "#     if row['title'] == row['title']:\n",
      "#         t = str(row['title'])\n",
      "#     if row['snippet'] == row['snippet']:\n",
      "#         s = str(row['snippet'])\n",
      "    \n",
      "#     s = ' '.join([t, s]).strip()\n",
      "    \n",
      "#     if cancer_regex.search(word_boundaries_regex.sub(' ', s)):\n",
      "#         return True\n",
      "#     return False\n",
      "\n",
      "# df['has_cancer_or_cancerous_only'] = df.apply(lambda row: find_cancer(row), axis=1)\n",
      "\n",
      "df = df[df.created_at >= '2016-01-01']\n",
      "df = df[df.created_at < '2017-01-01']\n",
      "# df = df[df.has_cancer]\n",
      "# del df['has_cancer']\n",
      "\n",
      "df2 = pd.DataFrame(df.dois.str.split(',').tolist(), index=df.index).stack()\n",
      "df2.name = 'doi'\n",
      "df2.index = df2.index.droplevel(1)\n",
      "df = df.join(df2)\n",
      "# for ids in ['altmetric_ids', 'dois', 'pmids']:\n",
      "#     df[ids] = df[ids].map(lambda x: str(x).split(',') if x == x > 0 else np.nan)\n",
      "\n",
      "# l = [item for sublist in df[~df.dois.isnull()].dois.tolist() for item in sublist]\n",
      "# dois_df = pd.DataFrame(l, columns=['doi'])\n",
      "# dois_df = df.doi.unique()"
     ],
     "language": "python",
     "metadata": {},
     "outputs": [],
     "prompt_number": 3
    },
    {
     "cell_type": "code",
     "collapsed": false,
     "input": [
      "def get_oaDOI(doi):\n",
      "    global counter\n",
      "    url = 'https://api.oadoi.org/%s' % doi\n",
      "    headers = {'Content-Type': 'application/json', \n",
      "       'Accept': 'application/json'}\n",
      "    \n",
      "    counter = counter + 1\n",
      "    if counter % 10 == 0:\n",
      "        print counter\n",
      "    response = None\n",
      "    try: \n",
      "        response = requests.get(url, headers=headers)\n",
      "        if response.status_code == 200:\n",
      "            return response.json()['results']\n",
      "    except Exception as e:\n",
      "        print e\n",
      "        print response\n",
      "        pass\n",
      "    return False"
     ],
     "language": "python",
     "metadata": {},
     "outputs": [],
     "prompt_number": 4
    },
    {
     "cell_type": "code",
     "collapsed": false,
     "input": [
      "print len(df.doi.drop_duplicates())"
     ],
     "language": "python",
     "metadata": {},
     "outputs": [
      {
       "output_type": "stream",
       "stream": "stdout",
       "text": [
        "11523\n"
       ]
      }
     ],
     "prompt_number": 5
    },
    {
     "cell_type": "code",
     "collapsed": false,
     "input": [
      "# Stefanie \n",
      "# df2 = pd.read_csv('data/DOI_OAstatus.txt', sep='\\t')\n",
      "# df2.set_index('DOI', inplace=True)\n",
      "# df2.head()"
     ],
     "language": "python",
     "metadata": {},
     "outputs": []
    },
    {
     "cell_type": "code",
     "collapsed": false,
     "input": [
      "counter = 0\n",
      "\n",
      "def get_altmetric(altmetric_id):\n",
      "    global counter\n",
      "    url = 'http://api.altmetric.com/v1/doi/%s' % altmetric_id\n",
      "    headers = {'content-type': 'application/json'}\n",
      "    response = requests.post(url, headers=headers)\n",
      "    counter = counter + 1\n",
      "    if counter % 50 == 0:\n",
      "        print counter\n",
      "    try: \n",
      "        response = requests.get(url, headers=headers)\n",
      "        if response.status_code == 200:\n",
      "            return response.json()\n",
      "        else:\n",
      "            return False\n",
      "    except: \n",
      "        return False    "
     ],
     "language": "python",
     "metadata": {},
     "outputs": [],
     "prompt_number": 6
    },
    {
     "cell_type": "code",
     "collapsed": false,
     "input": [
      "counter = 0\n",
      "\n",
      "def get_crossref(doi):\n",
      "    global counter\n",
      "    url = 'https://api.crossref.org/works/%s' % doi\n",
      "    headers = {'content-type': 'application/json'}\n",
      "    response = requests.post(url, headers=headers)\n",
      "    counter = counter + 1\n",
      "    if counter % 50 == 0:\n",
      "        print counter\n",
      "    try: \n",
      "        response = requests.get(url, headers=headers)\n",
      "        if response.status_code == 200:\n",
      "            return response.json()\n",
      "        else:\n",
      "            return False\n",
      "    except: \n",
      "        return False    "
     ],
     "language": "python",
     "metadata": {},
     "outputs": [],
     "prompt_number": 7
    },
    {
     "cell_type": "code",
     "collapsed": false,
     "input": [
      "# Dates in dataset\n",
      "print \"since: \", df.created_at.min()\n",
      "print \"until: \", df.created_at.max()"
     ],
     "language": "python",
     "metadata": {},
     "outputs": [
      {
       "output_type": "stream",
       "stream": "stdout",
       "text": [
        "since:  2016-01-01 00:00:00\n",
        "until:  2016-12-31 19:03:32\n"
       ]
      }
     ],
     "prompt_number": 8
    },
    {
     "cell_type": "code",
     "collapsed": false,
     "input": [
      "# Number of stories and articles\n",
      "print \"stories: \", len(df)\n",
      "print \"articles: \", len(df.doi.unique())"
     ],
     "language": "python",
     "metadata": {},
     "outputs": [
      {
       "output_type": "stream",
       "stream": "stdout",
       "text": [
        "stories:  67236\n",
        "articles:  11523\n"
       ]
      }
     ],
     "prompt_number": 9
    },
    {
     "cell_type": "code",
     "collapsed": false,
     "input": [
      "# average number of stories\n",
      "df.groupby('doi').size().describe()"
     ],
     "language": "python",
     "metadata": {},
     "outputs": [
      {
       "metadata": {},
       "output_type": "pyout",
       "prompt_number": 10,
       "text": [
        "count    11523.000000\n",
        "mean         5.834939\n",
        "std         14.163605\n",
        "min          1.000000\n",
        "25%          1.000000\n",
        "50%          1.000000\n",
        "75%          5.000000\n",
        "max        270.000000\n",
        "dtype: float64"
       ]
      }
     ],
     "prompt_number": 10
    },
    {
     "cell_type": "code",
     "collapsed": false,
     "input": [
      "# oaDOIresponses = filter(lambda x: type(x) == dict, dois_df)\n",
      "# print \"Discarding %s DOIs because could not fech. That's %.2f of all DOIs\" % (len(dois_df) - len(oaDOIresponses), ((len(dois_df) - len(oaDOIresponses))*100.0)/len(dois_df))\n",
      "# oaDOI = pd.DataFrame.from_records(oaDOIresponses, index='doi')\n",
      "# # print \"Discarding %s DOIs because of errors. That's %.2f of all DOIs\" % (len(oaDOI[~oaDOI.error.isnull()]), len(oaDOI[~oaDOI.error.isnull()]) * 100.0 / len(oaDOI))\n",
      "# # oaDOI = oaDOI[oaDOI.error.isnull()]\n",
      "# oaDOI.oa_color = oaDOI.oa_color.fillna('black')\n",
      "# del oaDOI['url']\n",
      "\n",
      "# df = df.merge(oaDOI, left_on='doi', right_index=True)\n"
     ],
     "language": "python",
     "metadata": {},
     "outputs": []
    },
    {
     "cell_type": "code",
     "collapsed": false,
     "input": [
      "oaDOI = pd.read_csv('data/juan_rerun.csv')\n",
      "oaDOI.oa_color = oaDOI.oa_color.fillna('black')\n",
      "\n",
      "df = df.merge(oaDOI, left_on='doi', right_on='doi')"
     ],
     "language": "python",
     "metadata": {},
     "outputs": [],
     "prompt_number": 11
    },
    {
     "cell_type": "code",
     "collapsed": false,
     "input": [
      "df.set_index('doi', inplace=True)"
     ],
     "language": "python",
     "metadata": {},
     "outputs": []
    },
    {
     "cell_type": "code",
     "collapsed": false,
     "input": [
      "# WARNING: fetches from CrossRef and Altmetric\n",
      "# oaDOI['crossref'] = oaDOI.index.map(get_crossref)\n",
      "# oaDOI['crossref'] = oaDOI.crossref.map(lambda r: r['message'] if r else None)\n",
      "# oaDOI['crossref_json'] = oaDOI.crossref.map(json.dumps)\n",
      "# oaDOI['altmetric'] = oaDOI.index.map(get_altmetric)\n",
      "# oaDOI['altmetric-published-date'] = oaDOI.altmetric.map(lambda x: x['published_on'] if x and 'published_on' in x.keys() else None)\n",
      "# oaDOI['altmetric-published-date'] = pd.to_datetime(oaDOI['altmetric-published-date'].multiply(1e9))\n",
      "# oaDOI['altmetric_json'] = oaDOI.altmetric.map(json.dumps)\n",
      "# oaDOI.to_csv('data/oaDOI_withcrossref_and_altmetric.csv')"
     ],
     "language": "python",
     "metadata": {},
     "outputs": []
    },
    {
     "cell_type": "code",
     "collapsed": false,
     "input": [
      "# oaDOI.to_csv('data/oaDOI_withcrossref_and_altmetric.csv', encoding='utf8')"
     ],
     "language": "python",
     "metadata": {},
     "outputs": []
    },
    {
     "cell_type": "code",
     "collapsed": false,
     "input": [
      "crossref_altmetric = pd.read_csv('data/oaDOI_withcrossref_and_altmetric.csv')\n",
      "crossref_altmetric = crossref_altmetric.set_index('doi')\n",
      "crossref_altmetric = crossref_altmetric[['crossref_json', 'altmetric-published-date']]"
     ],
     "language": "python",
     "metadata": {},
     "outputs": [],
     "prompt_number": 13
    },
    {
     "cell_type": "code",
     "collapsed": false,
     "input": [
      "df = df.merge(crossref_altmetric, left_on='doi', right_index=True)\n",
      "df.to_csv('data/oaDOI_withcrossref_and_altmetric_rerun.csv', encoding='utf8')"
     ],
     "language": "python",
     "metadata": {},
     "outputs": [],
     "prompt_number": 17
    },
    {
     "cell_type": "code",
     "collapsed": false,
     "input": [
      "oaDOI = df"
     ],
     "language": "python",
     "metadata": {},
     "outputs": [],
     "prompt_number": 18
    },
    {
     "cell_type": "code",
     "collapsed": true,
     "input": [
      "def get_date(c):\n",
      "    c = json.loads(c)\n",
      "    if not c:\n",
      "        return False\n",
      "    try: \n",
      "        if 'issued' in c:\n",
      "            d = c['issued']\n",
      "    except:\n",
      "        print type(c)\n",
      "        raise\n",
      "#     if 'published-online' in c:\n",
      "#         d = c['published-online']\n",
      "#     elif  'published-print' in c: \n",
      "#         d = c['published-print']\n",
      "#     else:\n",
      "#         d = False # c['created']\n",
      "    \n",
      "    try: \n",
      "        d = d['date-parts'][0]\n",
      "        if len(d) == 1:\n",
      "            return False\n",
      "        if len(d) == 2:\n",
      "            return datetime.datetime(d[0], d[1], 1)\n",
      "    \n",
      "        return datetime.datetime(d[0], d[1], d[2])\n",
      "    except:\n",
      "        return False\n",
      "\n",
      "oaDOI['published-date'] = oaDOI.crossref_json.map(get_date)\n",
      "len(oaDOI[oaDOI['published-date'].notnull()])*100./len(oaDOI)"
     ],
     "language": "python",
     "metadata": {},
     "outputs": [
      {
       "metadata": {},
       "output_type": "pyout",
       "prompt_number": 19,
       "text": [
        "100.0"
       ]
      }
     ],
     "prompt_number": 19
    },
    {
     "cell_type": "code",
     "collapsed": false,
     "input": [
      "def get_min_date(x):\n",
      "    if x['published-date'] and x['altmetric-published-date']:\n",
      "        return min(x['published-date'], x['altmetric-published-date'])\n",
      "    \n",
      "    if x['published-date']:\n",
      "        return x['published-date']\n",
      "    \n",
      "    if x['altmetric-published-date']:\n",
      "        return x['altmetric-published-date']\n",
      "\n",
      "# change False to None\n",
      "oaDOI['published-date'] = oaDOI['published-date'].map(lambda x: x if x and x != 'False' else None)\n",
      "oaDOI['altmetric-published-date'] = oaDOI['altmetric-published-date'].map(lambda x: x if x and x != 'False' else None)\n",
      "\n",
      "oaDOI['published-date'] = pd.to_datetime(oaDOI['published-date'])\n",
      "oaDOI['altmetric-published-date'] = pd.to_datetime(oaDOI['altmetric-published-date'])\n",
      "\n",
      "oaDOI['earliest-pub-date'] = oaDOI.apply(get_min_date, axis=1)"
     ],
     "language": "python",
     "metadata": {},
     "outputs": [],
     "prompt_number": 20
    },
    {
     "cell_type": "code",
     "collapsed": false,
     "input": [
      "# try: \n",
      "#     del df['earliest-pub-date']\n",
      "# except:\n",
      "#     pass\n",
      "# df = df.merge(oaDOI[['earliest-pub-date']], left_index=True, right_index=True)\n",
      "df['days_old'] = df.apply(lambda row: row['created_at'] - row['earliest-pub-date'] if row['earliest-pub-date'] else None, axis=1)\n",
      "print \"Dropping %s with no dates (%.1f%%)\" % (len(df[df.days_old.isnull()]), len(df[df.days_old.isnull()])*100/len(df))\n",
      "df = df[df.days_old.notnull()]"
     ],
     "language": "python",
     "metadata": {},
     "outputs": [
      {
       "output_type": "stream",
       "stream": "stdout",
       "text": [
        "Dropping 1793 with no dates (2.0%)\n"
       ]
      }
     ],
     "prompt_number": 21
    },
    {
     "cell_type": "code",
     "collapsed": false,
     "input": [
      "df[(df.days_old.map(lambda x: x.days) >= -30)].days_old.describe()"
     ],
     "language": "python",
     "metadata": {},
     "outputs": [
      {
       "metadata": {},
       "output_type": "pyout",
       "prompt_number": 22,
       "text": [
        "count                        65093\n",
        "mean      340 days 13:18:50.108905\n",
        "std      1156 days 08:06:15.190200\n",
        "min             -29 days +04:00:00\n",
        "25%                1 days 15:49:02\n",
        "50%               14 days 20:05:16\n",
        "75%               96 days 11:00:25\n",
        "max            42878 days 20:37:08\n",
        "Name: days_old, dtype: object"
       ]
      }
     ],
     "prompt_number": 22
    },
    {
     "cell_type": "code",
     "collapsed": false,
     "input": [
      "df[(df.days_old.map(lambda x: x.days) >= -30)  & (df.days_old.map(lambda x: x.days) <= 365)].days_old.describe()"
     ],
     "language": "python",
     "metadata": {},
     "outputs": [
      {
       "metadata": {},
       "output_type": "pyout",
       "prompt_number": 23,
       "text": [
        "count                      55325\n",
        "mean     37 days 01:17:39.871938\n",
        "std      68 days 01:01:11.798595\n",
        "min           -29 days +04:00:00\n",
        "25%              1 days 11:06:00\n",
        "50%              7 days 21:21:56\n",
        "75%             36 days 08:13:00\n",
        "max            365 days 20:37:28\n",
        "Name: days_old, dtype: object"
       ]
      }
     ],
     "prompt_number": 23
    },
    {
     "cell_type": "code",
     "collapsed": false,
     "input": [
      "tableau20_rgb = [(31, 119, 180), (174, 199, 232), (255, 127, 14), (255, 187, 120),  \n",
      "             (44, 160, 44), (152, 223, 138), (214, 39, 40), (255, 152, 150),  \n",
      "             (148, 103, 189), (197, 176, 213), (140, 86, 75), (196, 156, 148),  \n",
      "             (227, 119, 194), (247, 182, 210), (127, 127, 127), (199, 199, 199),  \n",
      "             (188, 189, 34), (219, 219, 141), (23, 190, 207), (158, 218, 229)] \n",
      "\n",
      "# Scale the RGB values to the [0, 1] range, which is the format matplotlib accepts.  \n",
      "tableau20 = {}\n",
      "for i, (r,g,b) in enumerate(tableau20_rgb):  \n",
      "    tableau20[i] = (r / 255., g / 255., b / 255.)  "
     ],
     "language": "python",
     "metadata": {},
     "outputs": [],
     "prompt_number": 24
    },
    {
     "cell_type": "code",
     "collapsed": false,
     "input": [
      "import locale\n",
      "locale.setlocale(locale.LC_ALL, 'en_US')\n",
      "\n",
      "\n",
      "pylab.rcParams['figure.figsize'] = (12.0, 8.0)\n",
      "fig, ax = plt.subplots()\n",
      "df.days_old.map(lambda x: x.days).hist(bins=range(-30, 390, 30), color=tableau20.values()[0], linewidth=0, ax=ax)\n",
      "ax.set_xlim([-30, 360])\n",
      "ax.set_ylim([0, 32000])\n",
      "ax.xaxis.grid(False)\n",
      "\n",
      "ax.yaxis.grid(True)\n",
      "ax.set_axisbelow(True)\n",
      "\n",
      "# Remove the plot frame lines. They are unnecessary chartjunk.  \n",
      "ax.spines[\"top\"].set_visible(False)  \n",
      "ax.spines[\"bottom\"].set_color('grey')\n",
      "ax.spines[\"right\"].set_visible(False)  \n",
      "ax.spines[\"left\"].set_color('grey')  \n",
      "\n",
      "ax.tick_params(axis=\"both\", which=\"both\", bottom=\"off\", top=\"off\",  \n",
      "                labelbottom=\"on\", left=\"off\", right=\"off\", labelleft=\"on\") \n",
      "\n",
      "plt.yticks(range(0,32500, 5000), [str(x) for x in range(0,32, 5)], color='grey', fontsize=14)  \n",
      "ax.set_ylabel('Number of stories\\n(Thousands)', color='grey', fontsize=16)\n",
      "\n",
      "ticks = plt.xticks([-15] + range(15, 365, 30), ['One month before'] + ['First', 'Second', 'Third', 'Fourth', 'Fifth', 'Sixth', 'Seventh', 'Eighth', 'Ninth', 'Tenth', 'Eleventh', 'Twelfth'], rotation=45, color='grey', ha='right', fontsize=14)\n",
      "ax.set_xlabel('Months since publication', color='grey', fontsize=16)\n",
      "\n",
      "ax.set_title('How long until a news story is written?', fontsize=20)\n",
      "plt.tight_layout(rect=[0, .1, 1, 1])\n",
      "\n",
      "plt.savefig('data/months_since_publication.png')"
     ],
     "language": "python",
     "metadata": {},
     "outputs": [
      {
       "metadata": {},
       "output_type": "display_data",
       "png": "[encoded data removed]",
       "text": [
        "<matplotlib.figure.Figure at 0x1046c6c50>"
       ]
      }
     ],
     "prompt_number": 25
    },
    {
     "cell_type": "code",
     "collapsed": false,
     "input": [
      "df['bins'] = pd.cut(df.days_old.map(lambda x: x.days), range(-30, 365, 30))"
     ],
     "language": "python",
     "metadata": {},
     "outputs": []
    },
    {
     "cell_type": "code",
     "collapsed": false,
     "input": [
      "df.groupby('bins').size()"
     ],
     "language": "python",
     "metadata": {},
     "outputs": []
    },
    {
     "cell_type": "code",
     "collapsed": false,
     "input": [
      "oaDOI['funder'] = oaDOI.crossref.map(lambda r: r['funder'] if r and 'funder' in r else None)\n",
      "\n",
      "funders = oaDOI[~oaDOI.funder.isnull()].funder.map(lambda x: [f['name'] if 'name' in f else None for f in x])\n",
      "funders[funders.map(lambda f: 'National Institute' in f)]"
     ],
     "language": "python",
     "metadata": {},
     "outputs": []
    },
    {
     "cell_type": "code",
     "collapsed": false,
     "input": [
      "df = df.reset_index()"
     ],
     "language": "python",
     "metadata": {},
     "outputs": []
    },
    {
     "cell_type": "code",
     "collapsed": false,
     "input": [
      "# number of stories by different limits\n",
      "df_lims = {}\n",
      "for lim in [0, 10, 25, 50]:\n",
      "    df_lims[lim] = df.groupby('doi').filter(lambda x: len(x) >= lim)\n",
      "    print \"At least %s: %s\" % (lim, len(df_lims[lim].doi.unique()))"
     ],
     "language": "python",
     "metadata": {},
     "outputs": []
    },
    {
     "cell_type": "code",
     "collapsed": false,
     "input": [
      "df = df.reset_index()"
     ],
     "language": "python",
     "metadata": {},
     "outputs": []
    },
    {
     "cell_type": "code",
     "collapsed": false,
     "input": [
      "df = df.merge(oaDOI, left_on='doi', right_index=True)"
     ],
     "language": "python",
     "metadata": {},
     "outputs": []
    },
    {
     "cell_type": "code",
     "collapsed": false,
     "input": [
      "oa_mentions = {}\n",
      "for lim in range(0, 60, 10):\n",
      "    df2 = df.groupby('doi').filter(lambda x: len(x) >= lim)\n",
      "    oa_color = df2[['doi', 'oa_color']].drop_duplicates().set_index('doi')\n",
      "    oa_color = oa_color.groupby('oa_color').size().multiply(100.0).divide(len(oa_color))\n",
      "    oa_mentions[lim] = oa_color['gold']\n",
      "    print \"At least %s: %s articles of which %.2f%% are OA\" % (lim, len(df2.doi.unique()), oa_mentions[lim])\n",
      "#     print oa_color.to_string()\n",
      "#     print"
     ],
     "language": "python",
     "metadata": {},
     "outputs": [
      {
       "output_type": "stream",
       "stream": "stdout",
       "text": [
        "At least 0: 11044 articles of which 13.45% are OA\n",
        "At least 10: 1520 articles of which 15.33% are OA"
       ]
      },
      {
       "output_type": "stream",
       "stream": "stdout",
       "text": [
        "\n",
        "At least 20: 658 articles of which 13.22% are OA"
       ]
      },
      {
       "output_type": "stream",
       "stream": "stdout",
       "text": [
        "\n",
        "At least 30: 425 articles of which 12.24% are OA"
       ]
      },
      {
       "output_type": "stream",
       "stream": "stdout",
       "text": [
        "\n",
        "At least 40: 333 articles of which 11.71% are OA"
       ]
      },
      {
       "output_type": "stream",
       "stream": "stdout",
       "text": [
        "\n",
        "At least 50: 282 articles of which 12.77% are OA"
       ]
      },
      {
       "output_type": "stream",
       "stream": "stdout",
       "text": [
        "\n"
       ]
      }
     ],
     "prompt_number": 26
    },
    {
     "cell_type": "code",
     "collapsed": false,
     "input": [
      "df[['doi', 'oa_color']].drop_duplicates().set_index('doi').groupby('oa_color').size().divide(.01*11044).map(lambda x: \"%.2f%%\" % x)"
     ],
     "language": "python",
     "metadata": {},
     "outputs": [
      {
       "metadata": {},
       "output_type": "pyout",
       "prompt_number": 27,
       "text": [
        "oa_color\n",
        "black    61.53%\n",
        "gold     13.45%\n",
        "green    25.03%\n",
        "dtype: object"
       ]
      }
     ],
     "prompt_number": 27
    },
    {
     "cell_type": "code",
     "collapsed": false,
     "input": [
      "oa_color = df[['doi', 'oa_color']].drop_duplicates().set_index('doi')"
     ],
     "language": "python",
     "metadata": {},
     "outputs": [],
     "prompt_number": 28
    },
    {
     "cell_type": "code",
     "collapsed": false,
     "input": [
      "df[['doi', 'oa_color']].head()"
     ],
     "language": "python",
     "metadata": {},
     "outputs": []
    },
    {
     "cell_type": "code",
     "collapsed": false,
     "input": [
      "print len(df[['doi', 'oa_color']])\n",
      "print len(df[['doi', 'oa_color']].drop_duplicates())\n",
      "print len(oa_color)\n",
      "print oa_color.groupby('oa_color').size().divide(len(oa_color)*.01)"
     ],
     "language": "python",
     "metadata": {},
     "outputs": [
      {
       "output_type": "stream",
       "stream": "stdout",
       "text": [
        "65265\n",
        "11044\n",
        "11044\n",
        "oa_color\n",
        "black    61.526621\n",
        "gold     13.446215\n",
        "green    25.027164\n",
        "dtype: float64\n"
       ]
      }
     ],
     "prompt_number": 29
    },
    {
     "cell_type": "code",
     "collapsed": false,
     "input": [
      "df[['doi', 'oa_color', 'evidence']].drop_duplicates().groupby(['oa_color', 'evidence']).size().sort_index()"
     ],
     "language": "python",
     "metadata": {},
     "outputs": [
      {
       "metadata": {},
       "output_type": "pyout",
       "prompt_number": 52,
       "text": [
        "oa_color  evidence                                       \n",
        "black     closed                                             6795\n",
        "gold      hybrid journal (via crossref license url)           278\n",
        "          oa journal (via journal title in doaj)             1201\n",
        "          oa repository (via datacite prefix)                   6\n",
        "green     oa repository (via base-search.net oa url)          452\n",
        "          oa repository (via base-search.net scraped url)      32\n",
        "          oa repository (via pmcid lookup)                   2280\n",
        "dtype: int64"
       ]
      }
     ],
     "prompt_number": 52
    },
    {
     "cell_type": "code",
     "collapsed": false,
     "input": [
      "num_mentions = df.groupby('doi').size()\n",
      "num_mentions.name = 'num_mentions'"
     ],
     "language": "python",
     "metadata": {},
     "outputs": [],
     "prompt_number": 33
    },
    {
     "cell_type": "code",
     "collapsed": false,
     "input": [
      "oa_color = df.set_index('doi').join(num_mentions).reset_index()[['doi', 'oa_color', 'num_mentions']].drop_duplicates().set_index('doi')\n",
      "oa_color = oa_color[~oa_color.num_mentions.isnull()]\n",
      "oa_color['doi_as_link'] = oa_color.index.map(lambda doi: \"http://doi.org/%s\" % doi)"
     ],
     "language": "python",
     "metadata": {},
     "outputs": [],
     "prompt_number": 34
    },
    {
     "cell_type": "code",
     "collapsed": false,
     "input": [
      "oa_color.sort_values('num_mentions', ascending=False).to_csv('data/news_story_dois_oastatus.csv')"
     ],
     "language": "python",
     "metadata": {},
     "outputs": [],
     "prompt_number": 35
    },
    {
     "cell_type": "code",
     "collapsed": false,
     "input": [
      "gb = oa_color.groupby(['num_mentions', 'oa_color'])\n",
      "# gb.size().unstack().apply(lambda row: row['gold']*100.0/sum(row), axis=1)"
     ],
     "language": "python",
     "metadata": {},
     "outputs": [],
     "prompt_number": 36
    },
    {
     "cell_type": "code",
     "collapsed": false,
     "input": [
      "pylab.rcParams['figure.figsize'] = (12.0, 8.0)\n",
      "df3 = gb.size().unstack().fillna(0).apply(lambda row: row['gold']*100.0/sum(row), axis=1)\n",
      "area = np.pi * (10+log(oa_color.groupby('num_mentions').size().divide(len(oa_color))))**2\n",
      "fig, ax = plt.subplots()\n",
      "plt.scatter(df3.index, df3, s=area)\n",
      "ax.set_xlim([0,300])\n",
      "ax.set_ylim([-.5, 105])\n",
      "ax.set_xlabel('exactly x mentions')\n",
      "ax.set_ylabel('% OA')"
     ],
     "language": "python",
     "metadata": {},
     "outputs": [
      {
       "metadata": {},
       "output_type": "pyout",
       "prompt_number": 37,
       "text": [
        "<matplotlib.text.Text at 0x110118650>"
       ]
      },
      {
       "metadata": {},
       "output_type": "display_data",
       "png": "[encoded data removed]",
       "text": [
        "<matplotlib.figure.Figure at 0x10b407790>"
       ]
      }
     ],
     "prompt_number": 37
    },
    {
     "cell_type": "code",
     "collapsed": false,
     "input": [
      "fig, ax = plt.subplots()\n",
      "\n",
      "df3 = gb.size().unstack().fillna(0).sort_index(ascending=False).cumsum().sort_index()\n",
      "\n",
      "# ax = df3.sum(axis=1).plot.bar()\n",
      "area = np.pi*log(df3.sum(axis=1))**2\n",
      "\n",
      "# errors = df3.apply(lambda row: row['gold']/float(sum(row)), axis=1).map(lambda x: x*(1-x)).divide(df3.sum(axis=1)).map(np.sqrt).multiply(100)\n",
      "df3.apply(lambda row: row['gold']*100.0/sum(row), axis=1).reset_index().plot.scatter(x='num_mentions', y=0, title=\"% OA by minimum number of news mentions\", s=30, xlim=[0,150], alpha=.5, ax=ax)\n",
      "\n",
      "ax.set_xlim([0, 165])\n",
      "# ax.set_ylim([0, 32000])\n",
      "ax.xaxis.grid(False)\n",
      "\n",
      "ax.yaxis.grid(True)\n",
      "ax.set_axisbelow(True)\n",
      "\n",
      "# Remove the plot frame lines. They are unnecessary chartjunk.  \n",
      "ax.spines[\"top\"].set_visible(False)  \n",
      "ax.spines[\"bottom\"].set_color('grey')\n",
      "ax.spines[\"right\"].set_visible(False)  \n",
      "ax.spines[\"left\"].set_color('grey')  \n",
      "\n",
      "ax.tick_params(axis=\"both\", which=\"both\", bottom=\"off\", top=\"off\",  \n",
      "                labelbottom=\"on\", left=\"off\", right=\"off\", labelleft=\"on\") \n",
      "\n",
      "\n",
      "\n",
      "# ax.set_xlim([0,df3.index.max()+5])\n",
      "\n",
      "# ax2 = ax.twinx()\n",
      "# # area = np.pi * (15*())**2\n",
      "\n",
      "ax.set_ylim([0,105])\n",
      "ax.set_xlabel('at least x mentions')\n",
      "ax.set_ylabel('% OA')\n",
      "\n",
      "plt.savefig('data/oa_by_min_mentions.png')\n",
      "\n",
      "# # ax2 = plt.scatter(df3.index, , s=30)\n",
      "\n",
      "\n"
     ],
     "language": "python",
     "metadata": {},
     "outputs": [
      {
       "metadata": {},
       "output_type": "display_data",
       "png": "[encoded data removed]",
       "text": [
        "<matplotlib.figure.Figure at 0x110118150>"
       ]
      }
     ],
     "prompt_number": 38
    },
    {
     "cell_type": "code",
     "collapsed": false,
     "input": [
      "# Number of Gold OA for articles with at least 50 mentions\n",
      "df3 = oa_color[oa_color.num_mentions >= 50].groupby(['num_mentions', 'oa_color']).size().unstack().fillna(0).sort_index(ascending=False).cumsum().sort_index()\n",
      "print \"%.2f%% gold OA\" % (df3['gold'].sum() * 100.0 / df3.sum(axis=1).sum())\n",
      "print \"%.2f%% green\" % (df3['green'].sum() * 100.0 / df3.sum(axis=1).sum())"
     ],
     "language": "python",
     "metadata": {},
     "outputs": []
    },
    {
     "cell_type": "code",
     "collapsed": false,
     "input": [
      "from urlparse import urlparse\n",
      "df['url'] = df.apply(lambda row: row['url'] if row['url'] == row['url'] else row['moreover_url'], axis=1)\n",
      "df['domain'] = df.url.map(lambda url: re.sub('^www\\.', '', urlparse(url).netloc) if url == url else np.nan)"
     ],
     "language": "python",
     "metadata": {},
     "outputs": []
    },
    {
     "cell_type": "code",
     "collapsed": false,
     "input": [
      "df.groupby('domain').size().describe()['75%']"
     ],
     "language": "python",
     "metadata": {},
     "outputs": []
    },
    {
     "cell_type": "code",
     "collapsed": false,
     "input": [
      "# Top 25% of domain names\n",
      "df.groupby('domain').filter(lambda x: len(x) > 100).groupby('domain').size().sort_values(ascending=False)"
     ],
     "language": "python",
     "metadata": {},
     "outputs": []
    },
    {
     "cell_type": "code",
     "collapsed": false,
     "input": [
      "domains = ['nytimes.com', 'washingtonpost.com', 'slate.com', 'huffingtonpost.com', 'theatlantic.com', 'theguardian.com', 'salon.com', 'latimes.com', 'foxnews.com', 'npr.org']\n",
      "\n",
      "for d in domains: \n",
      "    domain_df = df[df.domain.str.contains(d)]\n",
      "    print \"Domain: \", d, [x for x in domain_df.domain.unique()]\n",
      "    print \"%s articles\" % len(domain_df)\n",
      "    print \"%.2f%% OA\" % domain_df.groupby('oa_color').size().multiply(100.0).divide(len(domain_df))['gold']\n",
      "    print\n",
      "del domain_df"
     ],
     "language": "python",
     "metadata": {},
     "outputs": []
    },
    {
     "cell_type": "code",
     "collapsed": false,
     "input": [
      "sample_10p.groupby('classification').size().multiply(100.0).div(len(sample_10p)).plot.bar()"
     ],
     "language": "python",
     "metadata": {},
     "outputs": []
    },
    {
     "cell_type": "code",
     "collapsed": false,
     "input": [
      "sample_10p.groupby('dissmin_classification').size().multiply(100.0).div(len(sample_10p))"
     ],
     "language": "python",
     "metadata": {},
     "outputs": []
    },
    {
     "cell_type": "code",
     "collapsed": false,
     "input": [
      "sample_10p.groupby('classification').size().multiply(100.0).div(len(sample_10p))"
     ],
     "language": "python",
     "metadata": {},
     "outputs": []
    },
    {
     "cell_type": "code",
     "collapsed": false,
     "input": [
      "first_story = df.sort_values(by='posted_on:conv').groupby('citation:doi').first()"
     ],
     "language": "python",
     "metadata": {},
     "outputs": []
    },
    {
     "cell_type": "code",
     "collapsed": false,
     "input": [
      "df3 = oa_color[oa_color.num_mentions >= 100].groupby(['num_mentions', 'oa_color']).size().unstack().fillna(0).sort_index(ascending=False).cumsum().sort_index()"
     ],
     "language": "python",
     "metadata": {},
     "outputs": []
    },
    {
     "cell_type": "code",
     "collapsed": false,
     "input": [
      "df3.head()"
     ],
     "language": "python",
     "metadata": {},
     "outputs": []
    },
    {
     "cell_type": "code",
     "collapsed": false,
     "input": [
      "df3.apply(lambda row: row['gold']/float(sum(row)), axis=1).map(lambda x: x*(1-x)).divide(df3.sum(axis=1)).map(np.sqrt).multiply(100)"
     ],
     "language": "python",
     "metadata": {},
     "outputs": []
    },
    {
     "cell_type": "code",
     "collapsed": false,
     "input": [
      "oa_color = df.set_index('doi').join(num_mentions).reset_index()[['doi', 'oa_color', 'num_mentions']].drop_duplicates().set_index('doi')\n",
      "oa_color = oa_color[~oa_color.num_mentions.isnull()]\n",
      "\n",
      "oa_color.to_csv('data/top50news_oadoi_status.csv', sep=\"\\t\")"
     ],
     "language": "python",
     "metadata": {},
     "outputs": []
    },
    {
     "cell_type": "code",
     "collapsed": false,
     "input": [
      "\n",
      "b"
     ],
     "language": "python",
     "metadata": {},
     "outputs": []
    },
    {
     "cell_type": "code",
     "collapsed": false,
     "input": [
      "gb = first_story.join(sample_10p.set_index('doi'))\n",
      "gb['year'] = gb['posted_on:conv'].map(lambda x: x.year)\n",
      "gb = gb[gb.year > 2011]\n",
      "gb = gb[gb.classification.notnull()].groupby(['year', 'classification']).size()"
     ],
     "language": "python",
     "metadata": {},
     "outputs": []
    },
    {
     "cell_type": "code",
     "collapsed": false,
     "input": [
      "tmp = gb.multiply(100.0).divide(gb.groupby(level=0).sum()).unstack()"
     ],
     "language": "python",
     "metadata": {},
     "outputs": []
    },
    {
     "cell_type": "code",
     "collapsed": false,
     "input": [
      "tmp.index = [2012,2013,2014]"
     ],
     "language": "python",
     "metadata": {},
     "outputs": []
    },
    {
     "cell_type": "code",
     "collapsed": false,
     "input": [
      "response = get_crossref('http://api.crossref.org/works/10.1016/j.neuroscience.2015.10.035')"
     ],
     "language": "python",
     "metadata": {},
     "outputs": []
    },
    {
     "cell_type": "code",
     "collapsed": false,
     "input": [
      "# for stef\n",
      "len(df.index.tolist())"
     ],
     "language": "python",
     "metadata": {},
     "outputs": []
    },
    {
     "cell_type": "code",
     "collapsed": false,
     "input": [
      "responses = []\n",
      "for i in range(0, 40, 25):    \n",
      "    dois = df.iloc[i:i+25].apply(lambda x: ''.join(x.index)).tolist()\n",
      "    responses += get_oaDOIs(dois)\n"
     ],
     "language": "python",
     "metadata": {},
     "outputs": []
    },
    {
     "cell_type": "code",
     "collapsed": false,
     "input": [
      "len(responses)"
     ],
     "language": "python",
     "metadata": {},
     "outputs": []
    },
    {
     "cell_type": "code",
     "collapsed": false,
     "input": [
      "oaDOI = pd.DataFrame.from_records(responses, index='doi')\n",
      "print \"Discarding %s DOIs because of errors. That's %.2f of all DOIs\" % (len(oaDOI[~oaDOI.error.isnull()]), len(oaDOI[~oaDOI.error.isnull()]) * 100.0 / len(oaDOI))\n",
      "oaDOI = oaDOI[oaDOI.error.isnull()]\n",
      "oaDOI.oa_color = oaDOI.oa_color.fillna('black')\n",
      "\n",
      "df2 = df.join(oaDOI)"
     ],
     "language": "python",
     "metadata": {},
     "outputs": []
    },
    {
     "cell_type": "code",
     "collapsed": false,
     "input": [
      "df = pd.read_csv('data/oaDOI_withcrossref_and_altmetric.csv')"
     ],
     "language": "python",
     "metadata": {},
     "outputs": []
    },
    {
     "cell_type": "code",
     "collapsed": false,
     "input": [
      "df_new = df[[u'doi', u'doi_resolver', u'license', u'free_fulltext_url', u'is_free_to_read', u'is_boai_license', u'is_subscription_journal', u'oa_color', u'evidence', u'_title']].drop_duplicates().set_index('doi')\n",
      "print len(df_new)\n",
      "df_new.to_csv('data/new_oaDOI_responses.csv', encoding='utf8')"
     ],
     "language": "python",
     "metadata": {},
     "outputs": []
    },
    {
     "cell_type": "code",
     "collapsed": false,
     "input": [
      "df_old = pd.read_csv('data/oaDOI_withcrossref.csv', encoding='utf8')\n",
      "df_old.set_index('doi', inplace=True)\n",
      "df_old.groupby('oa_color').size().divide(len(df_old)*.01)"
     ],
     "language": "python",
     "metadata": {},
     "outputs": []
    },
    {
     "cell_type": "code",
     "collapsed": false,
     "input": [
      "df_new.merge(df_old, how='left', left_index=True, right_index=True, suffixes=('_new', '_old')).to_csv('data/oaDOIcomparison.csv', encoding='utf8')"
     ],
     "language": "python",
     "metadata": {},
     "outputs": []
    },
    {
     "cell_type": "code",
     "collapsed": false,
     "input": [
      "cp = df_new.merge(df_old, how='left', left_index=True, right_index=True, suffixes=('_new', '_old'))"
     ],
     "language": "python",
     "metadata": {},
     "outputs": []
    },
    {
     "cell_type": "code",
     "collapsed": false,
     "input": [
      "cp[cp['oa_color_old'] != cp['oa_color_new']][['oa_color_new', 'evidence_new', 'oa_color_old', 'evidence_old']]"
     ],
     "language": "python",
     "metadata": {},
     "outputs": []
    },
    {
     "cell_type": "code",
     "collapsed": false,
     "input": [
      "df_compare = pd.read_csv('data/oaDOIcomparison.csv', encoding='utf8')"
     ],
     "language": "python",
     "metadata": {},
     "outputs": []
    },
    {
     "cell_type": "code",
     "collapsed": false,
     "input": [
      "df_compare.groupby('oa_color_old').size()"
     ],
     "language": "python",
     "metadata": {},
     "outputs": []
    },
    {
     "cell_type": "code",
     "collapsed": false,
     "input": [
      "df_change = df_compare[df_compare['oa_color_old'] == 'gold'][['evidence_old', 'oa_color_new', 'evidence_new']]"
     ],
     "language": "python",
     "metadata": {},
     "outputs": []
    },
    {
     "cell_type": "code",
     "collapsed": false,
     "input": [
      "df_change.groupby('oa_color_new').size()"
     ],
     "language": "python",
     "metadata": {},
     "outputs": []
    },
    {
     "cell_type": "code",
     "collapsed": false,
     "input": [
      "df_change[df_change.oa_color_new != 'gold'].groupby('evidence_new').size()"
     ],
     "language": "python",
     "metadata": {},
     "outputs": []
    }
   ],
   "metadata": {}
  }
 ]
}