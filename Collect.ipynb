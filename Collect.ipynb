{
 "metadata": {
  "name": ""
 },
 "nbformat": 3,
 "nbformat_minor": 0,
 "worksheets": [
  {
   "cells": [
    {
     "cell_type": "code",
     "collapsed": false,
     "input": [
      "import unshortenit\n",
      "\n",
      "import tweepy\n",
      "import re\n",
      "import json\n",
      "\n",
      "import sqlite3\n",
      "\n",
      "import pandas as pd\n",
      "\n",
      "import datetime, time, os, sys\n",
      "import argparse, ConfigParser\n",
      "Config = ConfigParser.ConfigParser()\n",
      "Config.read('config.cnf')\n",
      "\n",
      "consumer_key = Config.get('twitterdissertation', 'consumer_key')\n",
      "consumer_secret = Config.get('twitterdissertation', 'consumer_secret')\n",
      "access_token = Config.get('twitterdissertation', 'access_token')\n",
      "access_token_secret = Config.get('twitterdissertation', 'access_token_secret')\n",
      "\n",
      "auth = tweepy.OAuthHandler(consumer_key, consumer_secret)\n",
      "auth.set_access_token(access_token, access_token_secret)\n",
      "# set up access to the Twitter API\n",
      "api = tweepy.API(auth, wait_on_rate_limit=True, wait_on_rate_limit_notify=True)"
     ],
     "language": "python",
     "metadata": {},
     "outputs": [],
     "prompt_number": 1
    },
    {
     "cell_type": "code",
     "collapsed": false,
     "input": [
      "status = api.get_status(488285729764945920)\n"
     ],
     "language": "python",
     "metadata": {},
     "outputs": [],
     "prompt_number": 3
    },
    {
     "cell_type": "code",
     "collapsed": false,
     "input": [
      "status"
     ],
     "language": "python",
     "metadata": {},
     "outputs": [],
     "prompt_number": "*"
    },
    {
     "cell_type": "code",
     "collapsed": false,
     "input": [
      "evolBioCon = sqlite3.connect(\"data/BMCevolBioSample.db\")\n",
      "bioCon = sqlite3.connect(\"data/BMCbioSample.db\")"
     ],
     "language": "python",
     "metadata": {},
     "outputs": [],
     "prompt_number": 3
    },
    {
     "cell_type": "code",
     "collapsed": false,
     "input": [
      "def load_user_errors(con):\n",
      "    return pd.read_sql(\"SELECT DISTINCT old_screen_name, error FROM sample WHERE error IS NOT NULL \", con, index_col='old_screen_name')\n",
      "\n",
      "df = load_user_errors(evolBioCon).append(load_user_errors(bioCon))\n"
     ],
     "language": "python",
     "metadata": {},
     "outputs": [],
     "prompt_number": 6
    },
    {
     "cell_type": "code",
     "collapsed": false,
     "input": [
      "user = api.get_user('juancommander')"
     ],
     "language": "python",
     "metadata": {},
     "outputs": [],
     "prompt_number": 8
    },
    {
     "cell_type": "code",
     "collapsed": false,
     "input": [
      "df"
     ],
     "language": "python",
     "metadata": {},
     "outputs": [
      {
       "html": [
        "<div style=\"max-width:1500px;overflow:auto;\">\n",
        "<table border=\"1\" class=\"dataframe\">\n",
        "  <thead>\n",
        "    <tr style=\"text-align: right;\">\n",
        "      <th></th>\n",
        "      <th>error</th>\n",
        "      <th>updated_error</th>\n",
        "    </tr>\n",
        "    <tr>\n",
        "      <th>old_screen_name</th>\n",
        "      <th></th>\n",
        "      <th></th>\n",
        "    </tr>\n",
        "  </thead>\n",
        "  <tbody>\n",
        "    <tr>\n",
        "      <th>65johnno</th>\n",
        "      <td>User has been suspended.</td>\n",
        "      <td>User has been suspended.</td>\n",
        "    </tr>\n",
        "    <tr>\n",
        "      <th>Ali20586</th>\n",
        "      <td>Sorry, you are not authorized to see this status.</td>\n",
        "      <td>None</td>\n",
        "    </tr>\n",
        "    <tr>\n",
        "      <th>AnnaKateBowman</th>\n",
        "      <td>No status found with that ID.</td>\n",
        "      <td>User not found.</td>\n",
        "    </tr>\n",
        "    <tr>\n",
        "      <th>Atlantagirl3</th>\n",
        "      <td>No status found with that ID.</td>\n",
        "      <td>User not found.</td>\n",
        "    </tr>\n",
        "    <tr>\n",
        "      <th>BioMedCentralJP</th>\n",
        "      <td>No status found with that ID.</td>\n",
        "      <td>User not found.</td>\n",
        "    </tr>\n",
        "    <tr>\n",
        "      <th>FranTempersonne</th>\n",
        "      <td>No status found with that ID.</td>\n",
        "      <td>User not found.</td>\n",
        "    </tr>\n",
        "    <tr>\n",
        "      <th>Fuji_sang</th>\n",
        "      <td>No status found with that ID.</td>\n",
        "      <td>None</td>\n",
        "    </tr>\n",
        "    <tr>\n",
        "      <th>Heidi6028</th>\n",
        "      <td>No status found with that ID.</td>\n",
        "      <td>User not found.</td>\n",
        "    </tr>\n",
        "    <tr>\n",
        "      <th>NeenahBoo2</th>\n",
        "      <td>No status found with that ID.</td>\n",
        "      <td>None</td>\n",
        "    </tr>\n",
        "    <tr>\n",
        "      <th>TinnyFoil</th>\n",
        "      <td>No status found with that ID.</td>\n",
        "      <td>User not found.</td>\n",
        "    </tr>\n",
        "    <tr>\n",
        "      <th>TsudaNaomi</th>\n",
        "      <td>User has been suspended.</td>\n",
        "      <td>User has been suspended.</td>\n",
        "    </tr>\n",
        "    <tr>\n",
        "      <th>___rtr</th>\n",
        "      <td>Sorry, you are not authorized to see this status.</td>\n",
        "      <td>None</td>\n",
        "    </tr>\n",
        "    <tr>\n",
        "      <th>ahseeder</th>\n",
        "      <td>Sorry, you are not authorized to see this status.</td>\n",
        "      <td>None</td>\n",
        "    </tr>\n",
        "    <tr>\n",
        "      <th>bluetittit</th>\n",
        "      <td>No status found with that ID.</td>\n",
        "      <td>None</td>\n",
        "    </tr>\n",
        "    <tr>\n",
        "      <th>cathunwin</th>\n",
        "      <td>No status found with that ID.</td>\n",
        "      <td>User has been suspended.</td>\n",
        "    </tr>\n",
        "    <tr>\n",
        "      <th>chiangtairau</th>\n",
        "      <td>No status found with that ID.</td>\n",
        "      <td>User not found.</td>\n",
        "    </tr>\n",
        "    <tr>\n",
        "      <th>cyberuls</th>\n",
        "      <td>No status found with that ID.</td>\n",
        "      <td>User has been suspended.</td>\n",
        "    </tr>\n",
        "    <tr>\n",
        "      <th>faustovrz</th>\n",
        "      <td>No status found with that ID.</td>\n",
        "      <td>None</td>\n",
        "    </tr>\n",
        "    <tr>\n",
        "      <th>hindu_kush420</th>\n",
        "      <td>No status found with that ID.</td>\n",
        "      <td>User not found.</td>\n",
        "    </tr>\n",
        "    <tr>\n",
        "      <th>jackiemopsy</th>\n",
        "      <td>No status found with that ID.</td>\n",
        "      <td>None</td>\n",
        "    </tr>\n",
        "    <tr>\n",
        "      <th>jeeezelouise</th>\n",
        "      <td>No status found with that ID.</td>\n",
        "      <td>None</td>\n",
        "    </tr>\n",
        "    <tr>\n",
        "      <th>kaniko95</th>\n",
        "      <td>No status found with that ID.</td>\n",
        "      <td>User not found.</td>\n",
        "    </tr>\n",
        "    <tr>\n",
        "      <th>kawaragai</th>\n",
        "      <td>No status found with that ID.</td>\n",
        "      <td>User not found.</td>\n",
        "    </tr>\n",
        "    <tr>\n",
        "      <th>kiha205</th>\n",
        "      <td>No status found with that ID.</td>\n",
        "      <td>User not found.</td>\n",
        "    </tr>\n",
        "    <tr>\n",
        "      <th>misaki86776568</th>\n",
        "      <td>No status found with that ID.</td>\n",
        "      <td>User not found.</td>\n",
        "    </tr>\n",
        "    <tr>\n",
        "      <th>ninnniku_</th>\n",
        "      <td>No status found with that ID.</td>\n",
        "      <td>None</td>\n",
        "    </tr>\n",
        "    <tr>\n",
        "      <th>nonshu</th>\n",
        "      <td>Sorry, you are not authorized to see this status.</td>\n",
        "      <td>None</td>\n",
        "    </tr>\n",
        "    <tr>\n",
        "      <th>okinawa_yasai</th>\n",
        "      <td>Sorry, you are not authorized to see this status.</td>\n",
        "      <td>None</td>\n",
        "    </tr>\n",
        "    <tr>\n",
        "      <th>orz_okinawa</th>\n",
        "      <td>User has been suspended.</td>\n",
        "      <td>User not found.</td>\n",
        "    </tr>\n",
        "    <tr>\n",
        "      <th>peace_tokai</th>\n",
        "      <td>No status found with that ID.</td>\n",
        "      <td>None</td>\n",
        "    </tr>\n",
        "    <tr>\n",
        "      <th>...</th>\n",
        "      <td>...</td>\n",
        "      <td>...</td>\n",
        "    </tr>\n",
        "    <tr>\n",
        "      <th>avinashtn</th>\n",
        "      <td>No status found with that ID.</td>\n",
        "      <td>None</td>\n",
        "    </tr>\n",
        "    <tr>\n",
        "      <th>bemyprimate</th>\n",
        "      <td>Sorry, that page does not exist.</td>\n",
        "      <td>User not found.</td>\n",
        "    </tr>\n",
        "    <tr>\n",
        "      <th>christlet</th>\n",
        "      <td>No status found with that ID.</td>\n",
        "      <td>None</td>\n",
        "    </tr>\n",
        "    <tr>\n",
        "      <th>devnewsbot</th>\n",
        "      <td>No status found with that ID.</td>\n",
        "      <td>None</td>\n",
        "    </tr>\n",
        "    <tr>\n",
        "      <th>drbachinsky</th>\n",
        "      <td>No status found with that ID.</td>\n",
        "      <td>None</td>\n",
        "    </tr>\n",
        "    <tr>\n",
        "      <th>eliowa</th>\n",
        "      <td>No status found with that ID.</td>\n",
        "      <td>None</td>\n",
        "    </tr>\n",
        "    <tr>\n",
        "      <th>hackernewsrss</th>\n",
        "      <td>User has been suspended.</td>\n",
        "      <td>User has been suspended.</td>\n",
        "    </tr>\n",
        "    <tr>\n",
        "      <th>johnpane</th>\n",
        "      <td>No status found with that ID.</td>\n",
        "      <td>None</td>\n",
        "    </tr>\n",
        "    <tr>\n",
        "      <th>keivard</th>\n",
        "      <td>No status found with that ID.</td>\n",
        "      <td>User not found.</td>\n",
        "    </tr>\n",
        "    <tr>\n",
        "      <th>markushinka</th>\n",
        "      <td>No status found with that ID.</td>\n",
        "      <td>User not found.</td>\n",
        "    </tr>\n",
        "    <tr>\n",
        "      <th>mavijims</th>\n",
        "      <td>Sorry, you are not authorized to see this status.</td>\n",
        "      <td>None</td>\n",
        "    </tr>\n",
        "    <tr>\n",
        "      <th>meabhym</th>\n",
        "      <td>No status found with that ID.</td>\n",
        "      <td>None</td>\n",
        "    </tr>\n",
        "    <tr>\n",
        "      <th>meitanteiabid</th>\n",
        "      <td>No status found with that ID.</td>\n",
        "      <td>User not found.</td>\n",
        "    </tr>\n",
        "    <tr>\n",
        "      <th>mousemusculus</th>\n",
        "      <td>Sorry, you are not authorized to see this status.</td>\n",
        "      <td>User not found.</td>\n",
        "    </tr>\n",
        "    <tr>\n",
        "      <th>mrajayk</th>\n",
        "      <td>Sorry, you are not authorized to see this status.</td>\n",
        "      <td>None</td>\n",
        "    </tr>\n",
        "    <tr>\n",
        "      <th>mxduki</th>\n",
        "      <td>No status found with that ID.</td>\n",
        "      <td>None</td>\n",
        "    </tr>\n",
        "    <tr>\n",
        "      <th>nacho_zizou</th>\n",
        "      <td>No status found with that ID.</td>\n",
        "      <td>None</td>\n",
        "    </tr>\n",
        "    <tr>\n",
        "      <th>nobelsn</th>\n",
        "      <td>User has been suspended.</td>\n",
        "      <td>User has been suspended.</td>\n",
        "    </tr>\n",
        "    <tr>\n",
        "      <th>noricorino</th>\n",
        "      <td>No status found with that ID.</td>\n",
        "      <td>None</td>\n",
        "    </tr>\n",
        "    <tr>\n",
        "      <th>peter_makin</th>\n",
        "      <td>Sorry, you are not authorized to see this status.</td>\n",
        "      <td>None</td>\n",
        "    </tr>\n",
        "    <tr>\n",
        "      <th>razZ0r</th>\n",
        "      <td>No status found with that ID.</td>\n",
        "      <td>None</td>\n",
        "    </tr>\n",
        "    <tr>\n",
        "      <th>sagebiel</th>\n",
        "      <td>No status found with that ID.</td>\n",
        "      <td>None</td>\n",
        "    </tr>\n",
        "    <tr>\n",
        "      <th>sanjaybhatikar</th>\n",
        "      <td>No status found with that ID.</td>\n",
        "      <td>None</td>\n",
        "    </tr>\n",
        "    <tr>\n",
        "      <th>satbhambra</th>\n",
        "      <td>No status found with that ID.</td>\n",
        "      <td>User not found.</td>\n",
        "    </tr>\n",
        "    <tr>\n",
        "      <th>scopedbylarry</th>\n",
        "      <td>No status found with that ID.</td>\n",
        "      <td>None</td>\n",
        "    </tr>\n",
        "    <tr>\n",
        "      <th>seitics</th>\n",
        "      <td>No status found with that ID.</td>\n",
        "      <td>None</td>\n",
        "    </tr>\n",
        "    <tr>\n",
        "      <th>sgbem</th>\n",
        "      <td>No status found with that ID.</td>\n",
        "      <td>None</td>\n",
        "    </tr>\n",
        "    <tr>\n",
        "      <th>timasaki</th>\n",
        "      <td>Sorry, you are not authorized to see this status.</td>\n",
        "      <td>None</td>\n",
        "    </tr>\n",
        "    <tr>\n",
        "      <th>volatilitysmile</th>\n",
        "      <td>Sorry, you are not authorized to see this status.</td>\n",
        "      <td>None</td>\n",
        "    </tr>\n",
        "    <tr>\n",
        "      <th>wt3</th>\n",
        "      <td>Sorry, you are not authorized to see this status.</td>\n",
        "      <td>None</td>\n",
        "    </tr>\n",
        "  </tbody>\n",
        "</table>\n",
        "<p>96 rows \u00d7 2 columns</p>\n",
        "</div>"
       ],
       "metadata": {},
       "output_type": "pyout",
       "prompt_number": 17,
       "text": [
        "                                                             error  \\\n",
        "old_screen_name                                                      \n",
        "65johnno                                  User has been suspended.   \n",
        "Ali20586         Sorry, you are not authorized to see this status.   \n",
        "AnnaKateBowman                       No status found with that ID.   \n",
        "Atlantagirl3                         No status found with that ID.   \n",
        "BioMedCentralJP                      No status found with that ID.   \n",
        "FranTempersonne                      No status found with that ID.   \n",
        "Fuji_sang                            No status found with that ID.   \n",
        "Heidi6028                            No status found with that ID.   \n",
        "NeenahBoo2                           No status found with that ID.   \n",
        "TinnyFoil                            No status found with that ID.   \n",
        "TsudaNaomi                                User has been suspended.   \n",
        "___rtr           Sorry, you are not authorized to see this status.   \n",
        "ahseeder         Sorry, you are not authorized to see this status.   \n",
        "bluetittit                           No status found with that ID.   \n",
        "cathunwin                            No status found with that ID.   \n",
        "chiangtairau                         No status found with that ID.   \n",
        "cyberuls                             No status found with that ID.   \n",
        "faustovrz                            No status found with that ID.   \n",
        "hindu_kush420                        No status found with that ID.   \n",
        "jackiemopsy                          No status found with that ID.   \n",
        "jeeezelouise                         No status found with that ID.   \n",
        "kaniko95                             No status found with that ID.   \n",
        "kawaragai                            No status found with that ID.   \n",
        "kiha205                              No status found with that ID.   \n",
        "misaki86776568                       No status found with that ID.   \n",
        "ninnniku_                            No status found with that ID.   \n",
        "nonshu           Sorry, you are not authorized to see this status.   \n",
        "okinawa_yasai    Sorry, you are not authorized to see this status.   \n",
        "orz_okinawa                               User has been suspended.   \n",
        "peace_tokai                          No status found with that ID.   \n",
        "...                                                            ...   \n",
        "avinashtn                            No status found with that ID.   \n",
        "bemyprimate                       Sorry, that page does not exist.   \n",
        "christlet                            No status found with that ID.   \n",
        "devnewsbot                           No status found with that ID.   \n",
        "drbachinsky                          No status found with that ID.   \n",
        "eliowa                               No status found with that ID.   \n",
        "hackernewsrss                             User has been suspended.   \n",
        "johnpane                             No status found with that ID.   \n",
        "keivard                              No status found with that ID.   \n",
        "markushinka                          No status found with that ID.   \n",
        "mavijims         Sorry, you are not authorized to see this status.   \n",
        "meabhym                              No status found with that ID.   \n",
        "meitanteiabid                        No status found with that ID.   \n",
        "mousemusculus    Sorry, you are not authorized to see this status.   \n",
        "mrajayk          Sorry, you are not authorized to see this status.   \n",
        "mxduki                               No status found with that ID.   \n",
        "nacho_zizou                          No status found with that ID.   \n",
        "nobelsn                                   User has been suspended.   \n",
        "noricorino                           No status found with that ID.   \n",
        "peter_makin      Sorry, you are not authorized to see this status.   \n",
        "razZ0r                               No status found with that ID.   \n",
        "sagebiel                             No status found with that ID.   \n",
        "sanjaybhatikar                       No status found with that ID.   \n",
        "satbhambra                           No status found with that ID.   \n",
        "scopedbylarry                        No status found with that ID.   \n",
        "seitics                              No status found with that ID.   \n",
        "sgbem                                No status found with that ID.   \n",
        "timasaki         Sorry, you are not authorized to see this status.   \n",
        "volatilitysmile  Sorry, you are not authorized to see this status.   \n",
        "wt3              Sorry, you are not authorized to see this status.   \n",
        "\n",
        "                            updated_error  \n",
        "old_screen_name                            \n",
        "65johnno         User has been suspended.  \n",
        "Ali20586                             None  \n",
        "AnnaKateBowman            User not found.  \n",
        "Atlantagirl3              User not found.  \n",
        "BioMedCentralJP           User not found.  \n",
        "FranTempersonne           User not found.  \n",
        "Fuji_sang                            None  \n",
        "Heidi6028                 User not found.  \n",
        "NeenahBoo2                           None  \n",
        "TinnyFoil                 User not found.  \n",
        "TsudaNaomi       User has been suspended.  \n",
        "___rtr                               None  \n",
        "ahseeder                             None  \n",
        "bluetittit                           None  \n",
        "cathunwin        User has been suspended.  \n",
        "chiangtairau              User not found.  \n",
        "cyberuls         User has been suspended.  \n",
        "faustovrz                            None  \n",
        "hindu_kush420             User not found.  \n",
        "jackiemopsy                          None  \n",
        "jeeezelouise                         None  \n",
        "kaniko95                  User not found.  \n",
        "kawaragai                 User not found.  \n",
        "kiha205                   User not found.  \n",
        "misaki86776568            User not found.  \n",
        "ninnniku_                            None  \n",
        "nonshu                               None  \n",
        "okinawa_yasai                        None  \n",
        "orz_okinawa               User not found.  \n",
        "peace_tokai                          None  \n",
        "...                                   ...  \n",
        "avinashtn                            None  \n",
        "bemyprimate               User not found.  \n",
        "christlet                            None  \n",
        "devnewsbot                           None  \n",
        "drbachinsky                          None  \n",
        "eliowa                               None  \n",
        "hackernewsrss    User has been suspended.  \n",
        "johnpane                             None  \n",
        "keivard                   User not found.  \n",
        "markushinka               User not found.  \n",
        "mavijims                             None  \n",
        "meabhym                              None  \n",
        "meitanteiabid             User not found.  \n",
        "mousemusculus             User not found.  \n",
        "mrajayk                              None  \n",
        "mxduki                               None  \n",
        "nacho_zizou                          None  \n",
        "nobelsn          User has been suspended.  \n",
        "noricorino                           None  \n",
        "peter_makin                          None  \n",
        "razZ0r                               None  \n",
        "sagebiel                             None  \n",
        "sanjaybhatikar                       None  \n",
        "satbhambra                User not found.  \n",
        "scopedbylarry                        None  \n",
        "seitics                              None  \n",
        "sgbem                                None  \n",
        "timasaki                             None  \n",
        "volatilitysmile                      None  \n",
        "wt3                                  None  \n",
        "\n",
        "[96 rows x 2 columns]"
       ]
      }
     ],
     "prompt_number": 17
    },
    {
     "cell_type": "code",
     "collapsed": false,
     "input": [
      "def get_user(screen_name):\n",
      "    try:\n",
      "        user = api.get_user(screen_name=screen_name)\n",
      "        return None\n",
      "    except tweepy.TweepError, error: \n",
      "        return error.message[0]['message']\n",
      "df['updated_error'] = df.index.map(get_user)"
     ],
     "language": "python",
     "metadata": {},
     "outputs": [],
     "prompt_number": 13
    },
    {
     "cell_type": "code",
     "collapsed": false,
     "input": [
      "print len(df)\n",
      "print len(df[df.updated_error.isnull()])"
     ],
     "language": "python",
     "metadata": {},
     "outputs": [
      {
       "output_type": "stream",
       "stream": "stdout",
       "text": [
        "96\n",
        "56\n"
       ]
      }
     ],
     "prompt_number": 16
    },
    {
     "cell_type": "code",
     "collapsed": false,
     "input": [
      "litecon = lite.connect('new_yorker_2.0.db')"
     ],
     "language": "python",
     "metadata": {},
     "outputs": [],
     "prompt_number": 41
    },
    {
     "cell_type": "code",
     "collapsed": false,
     "input": [
      "import pandas as pd\n",
      "user_df = pd.read_sql(\"SELECT user_id, screen_name, user_object, timeline, timeline_error, timeline_modified, user_modified FROM users\", litecon, index_col='user_id')\n",
      "user_df.index = user_df.index.astype(int)"
     ],
     "language": "python",
     "metadata": {},
     "outputs": [],
     "prompt_number": 29
    },
    {
     "cell_type": "code",
     "collapsed": false,
     "input": [
      "s = user_df.sample(1)\n",
      "t = json.loads(s.iloc[0]['timeline'])"
     ],
     "language": "python",
     "metadata": {},
     "outputs": [],
     "prompt_number": 4
    },
    {
     "cell_type": "code",
     "collapsed": false,
     "input": [
      "with litecon:\n",
      "    litecur = litecon.cursor()\n",
      "    litecur.execute('SELECT tweet_id, tweet FROM sample WHERE user_id IS NULL AND tweet IS NOT NULL')\n",
      "    sampled = litecur.fetchall()\n",
      "    \n",
      "    for s in sampled:\n",
      "        tweet_id = s[0]\n",
      "        tweet = json.loads(s[1])\n",
      "        \n",
      "        litecur.execute('UPDATE sample SET user_id = ? WHERE tweet_id = ?', (tweet['user']['id_str'], tweet_id))\n",
      "                        "
     ],
     "language": "python",
     "metadata": {},
     "outputs": [],
     "prompt_number": 19
    },
    {
     "cell_type": "code",
     "collapsed": false,
     "input": [
      "results = api.search('washingtonpost.com AND science filter:links', rpp=5)  # \n",
      "results[0]._json['entities']['urls']"
     ],
     "language": "python",
     "metadata": {},
     "outputs": [
      {
       "metadata": {},
       "output_type": "pyout",
       "prompt_number": 39,
       "text": [
        "[{u'display_url': u'wapo.st/2ahV4EV',\n",
        "  u'expanded_url': u'http://wapo.st/2ahV4EV',\n",
        "  u'indices': [116, 139],\n",
        "  u'url': u'https://t.co/NvGeUWWZti'}]"
       ]
      }
     ],
     "prompt_number": 39
    },
    {
     "cell_type": "code",
     "collapsed": false,
     "input": [
      "for r in results: \n",
      "    for u in r._json['entities']['urls']:\n",
      "        print u['expanded_url']\n",
      "    print "
     ],
     "language": "python",
     "metadata": {},
     "outputs": [
      {
       "output_type": "stream",
       "stream": "stdout",
       "text": [
        "http://wapo.st/2ahV4EV\n",
        "\n",
        "https://www.washingtonpost.com/national/health-science/hillary-clintons-blood-clot-most-likely-in-a-leg-experts-say/2012/12/31/d2c853ea-5376-11e2-bf3e-76c0a789346f_story.html\n",
        "\n",
        "https://www.washingtonpost.com/national/health-science/infants-death-is-first-zika-related-fatality-in-texas/2016/08/09/1c8e7974-5e4e-11e6-84c1-6d27287896b5_story.html?postshare=4861470765287003&tid=ss_mail\n",
        "\n",
        "https://www.washingtonpost.com/news/post-politics/wp/2016/08/08/armed-with-junk-science-and-old-photos-critics-question-hillaryshealth/\n",
        "\n",
        "http://wapo.st/2aPGt2f\n",
        "\n",
        "http://wapo.st/2aR1gTs\n",
        "\n",
        "http://fb.me/8Shqi15ev\n",
        "\n",
        "http://fb.me/5jRZYO9Xv\n",
        "\n",
        "http://fb.me/8Shqi15ev\n",
        "\n",
        "http://wpo.st/GMCr1\n",
        "\n",
        "http://wapo.st/2b2XJD9\n",
        "\n",
        "https://www.washingtonpost.com/national/health-science/infants-death-is-first-zika-related-fatality-in-texas/2016/08/09/1c8e7974-5e4e-11e6-84c1-6d27287896b5_story.html?postshare=4861470765287003&tid=ss_mail\n",
        "\n",
        "https://www.washingtonpost.com/national/health-science/infants-death-is-first-zika-related-fatality-in-texas/2016/08/09/1c8e7974-5e4e-11e6-84c1-6d27287896b5_story.html?postshare=4861470765287003&tid=ss_mail\n",
        "\n",
        "https://www.washingtonpost.com/national/health-science/infants-death-is-first-zika-related-fatality-in-texas/2016/08/09/1c8e7974-5e4e-11e6-84c1-6d27287896b5_story.html?postshare=4861470765287003&tid=ss_mail\n",
        "\n",
        "http://wapo.st/29yz5KH\n",
        "\n"
       ]
      }
     ],
     "prompt_number": 40
    },
    {
     "cell_type": "code",
     "collapsed": false,
     "input": [
      "for r in results: \n",
      "    for u in r._json['entities']['urls']:\n",
      "        unshortened_uri, status = unshortenit.unshorten_only(u['expanded_url'])\n",
      "        print unshortened_uri, status\n",
      "    print "
     ],
     "language": "python",
     "metadata": {},
     "outputs": [
      {
       "output_type": "stream",
       "stream": "stdout",
       "text": [
        "http://www.nytimes.com/2016/08/10/science/dog-sperm-fertility.html?hp&action=click&pgtype=Homepage&clickSource=story-heading&module=second-column-region&region=top-news&WT.nav=top-news&_r=0 200\n",
        "\n",
        "http://dlvr.it/M0JkQs 200\n",
        "\n",
        "http://dlvr.it/M0JkNh 200\n",
        "\n",
        "http://www.nytimes.com/2016/08/09/science/climate-change-carbon-bogs-peat.html?_r=0 200\n",
        "\n",
        "http://ow.ly/hLjZ302TJcR 200\n",
        "\n",
        "http://goo.gl/fOCwWi 200\n",
        "\n",
        "http://nyti.ms/2a9yEmR 200\n",
        "\n",
        "http://buff.ly/2aeDbHZ 200\n",
        "\n",
        "http://www.nytimes.com/2016/07/20/science/nasa-global-temperatures-2016.html?login=email&rref=collection/sectioncollection/science 200\n",
        "\n",
        "http://fb.me/4rgIAJH9m 200\n",
        "\n",
        "http://nyti.ms/2avQfb6 200\n",
        "\n",
        "http://nyti.ms/29mlfr8 200\n",
        "\n",
        "http://www.nytimes.com/2016/08/10/science/dog-sperm-fertility.html?hp&action=click&pgtype=Homepage&clickSource=story-heading&module=second-column-region&region=top-news&WT.nav=top-news&_r=0 200\n",
        "\n",
        "http://nyti.ms/2b42oTZ 200\n",
        "\n",
        "http://nyti.ms/2bdOPPC 200\n",
        "\n"
       ]
      }
     ],
     "prompt_number": 36
    },
    {
     "cell_type": "code",
     "collapsed": false,
     "input": [
      "query=tweepy.Cursor(api.search,  q='washingtonpost.com AND science filter:links').items(10)\n",
      "tweets= [status._json for status in query]\n",
      "tweets=pd.DataFrame(tweets)\n",
      "users=pd.DataFrame(tweets[\"user\"].to_dict()).T\n",
      "users=users.rename(columns= lambda x: 'user:'+x)\n",
      "tweets=pd.concat([tweets,users],axis=1)\n",
      "return tweets"
     ],
     "language": "python",
     "metadata": {},
     "outputs": [],
     "prompt_number": 42
    },
    {
     "cell_type": "code",
     "collapsed": false,
     "input": [
      "pd.DataFrame(tweets)"
     ],
     "language": "python",
     "metadata": {},
     "outputs": [
      {
       "metadata": {},
       "output_type": "pyout",
       "prompt_number": 43,
       "text": [
        "<tweepy.cursor.ItemIterator at 0x1043946d0>"
       ]
      }
     ],
     "prompt_number": 43
    },
    {
     "cell_type": "code",
     "collapsed": false,
     "input": [
      "since_id = '652417479537479680'\n",
      "mentions = api.mentions_timeline(count=200, since_id=since_id, include_rts=0)\n",
      "for i, m in enumerate(mentions):\n",
      "    tweet = api.get_status(id=m.id_str)\n",
      "    \n",
      "    with litecon:\n",
      "        litecur = litecon.cursor()        \n",
      "        litecur.execute('INSERT INTO response_data (user_id_str, tweet_id, time_received, tweet_text, tweet) VALUES (?,?,?,?,?)', (tweet.user.id_str, tweet.id_str, tweet.created_at, tweet.text, json.dumps(tweet._json)))\n",
      "        litecon.commit()\n",
      "\n",
      "    if i == 0: \n",
      "        since_id = m.id_str"
     ],
     "language": "python",
     "metadata": {},
     "outputs": [],
     "prompt_number": 42
    },
    {
     "cell_type": "code",
     "collapsed": false,
     "input": [
      "status.user.screen_name"
     ],
     "language": "python",
     "metadata": {},
     "outputs": [
      {
       "metadata": {},
       "output_type": "pyout",
       "prompt_number": 47,
       "text": [
        "u'SFUPubResearch'"
       ]
      }
     ],
     "prompt_number": 47
    },
    {
     "cell_type": "code",
     "collapsed": false,
     "input": [
      "api.followers_ids(id=2270698615)"
     ],
     "language": "python",
     "metadata": {},
     "outputs": [
      {
       "output_type": "stream",
       "stream": "stdout",
       "text": [
        "Rate limit reached. Sleeping for: 174\n"
       ]
      },
      {
       "metadata": {},
       "output_type": "pyout",
       "prompt_number": 2,
       "text": [
        "[]"
       ]
      }
     ],
     "prompt_number": 2
    },
    {
     "cell_type": "code",
     "collapsed": false,
     "input": [
      "u = api.get_user(2270698615)\n",
      "u.screen_name"
     ],
     "language": "python",
     "metadata": {},
     "outputs": [
      {
       "metadata": {},
       "output_type": "pyout",
       "prompt_number": 4,
       "text": [
        "u'mahmd_essam'"
       ]
      }
     ],
     "prompt_number": 4
    },
    {
     "cell_type": "code",
     "collapsed": false,
     "input": [
      "import botornot\n",
      "\n",
      "twitter_app_auth = {\n",
      "    'consumer_key': consumer_key,\n",
      "    'consumer_secret': consumer_secret,\n",
      "    'access_token': access_token,\n",
      "    'access_token_secret': access_token_secret,\n",
      "    'wait_on_rate_limit': True, \n",
      "    'wait_on_rate_limit_notify': True\n",
      "  }\n",
      "bon = botornot.BotOrNot(**twitter_app_auth)\n",
      "bon.twitter_api.wait_on_rate_limit_notify = True"
     ],
     "language": "python",
     "metadata": {},
     "outputs": [],
     "prompt_number": 24
    },
    {
     "cell_type": "code",
     "collapsed": false,
     "input": [
      "bon.twitter_api.wait_on_rate_limit_notify = True"
     ],
     "language": "python",
     "metadata": {},
     "outputs": [
      {
       "metadata": {},
       "output_type": "pyout",
       "prompt_number": 26,
       "text": [
        "False"
       ]
      }
     ],
     "prompt_number": 26
    },
    {
     "cell_type": "code",
     "collapsed": false,
     "input": [],
     "language": "python",
     "metadata": {},
     "outputs": []
    },
    {
     "cell_type": "code",
     "collapsed": false,
     "input": [
      "import tweepy\n",
      "import re\n",
      "import json\n",
      "\n",
      "import sqlite3 as lite\n",
      "\n",
      "import datetime, time, os, sys\n",
      "import argparse, ConfigParser\n",
      "Config = ConfigParser.ConfigParser()\n",
      "Config.read('config.cnf')\n",
      "\n",
      "litecon = lite.connect('data/twitter.db')\n"
     ],
     "language": "python",
     "metadata": {},
     "outputs": [],
     "prompt_number": 37
    },
    {
     "cell_type": "code",
     "collapsed": false,
     "input": [
      "user = api.get_user('juancommander')\n",
      "user_id = user.id\n",
      "ids = []\n",
      "for page in tweepy.Cursor(api.followers_ids, id=user_id).pages():\n",
      "    ids.extend(page)\n",
      "len(ids)"
     ],
     "language": "python",
     "metadata": {},
     "outputs": [
      {
       "metadata": {},
       "output_type": "pyout",
       "prompt_number": 61,
       "text": [
        "1086"
       ]
      }
     ],
     "prompt_number": 61
    },
    {
     "cell_type": "code",
     "collapsed": false,
     "input": [
      "def __save_network(endpoint, user_id, ids, error = None):\n",
      "    '''\n",
      "    Do the actual SQLite update with the info collected\n",
      "    '''\n",
      "    now = datetime.datetime.today().strftime(\"%Y-%m-%d %H:%M:%S\")\n",
      "    with litecon:\n",
      "        litecur = litecon.cursor()\n",
      "        \n",
      "        if error: \n",
      "            try: \n",
      "                m = error[0][0]['message']\n",
      "            except:\n",
      "                m = str(error)\n",
      "                \n",
      "            print \"Error: \", user_id, m\n",
      "            litecur.execute('INSERT INTO %s (user_id, %s_id, modified) VALUES (?, ?, ?)' % (endpoint, endpoint[:-1]), (user_id, -1, now))\n",
      "        else:\n",
      "            print 'saving', len(ids)\n",
      "            for f in ids:\n",
      "                try: \n",
      "                    litecur.execute('INSERT INTO %s (user_id, %s_id, modified) VALUES (?, ?, ?)' % (endpoint, endpoint[:-1]), (user_id, f, now))\n",
      "                except lite.IntegrityError:\n",
      "                    pass # ignore duplicates, they wont change the network\n",
      "\n",
      "def get_friends(user_id = None):\n",
      "    get_network('friends', user_id)\n",
      "\n",
      "def get_followers(user_id = None):\n",
      "    get_network('followers', user_id)\n",
      "            \n",
      "def get_network(endpoint, user_id = None):\n",
      "    '''\n",
      "    Get the friends/followers list for all users (or for a specific user\n",
      "    '''\n",
      "    if user_id is None:       \n",
      "        while (True):\n",
      "            with litecon:\n",
      "                litecur = litecon.cursor()\n",
      "                litecur.execute('SELECT u.user_id FROM users u LEFT JOIN %s f ON (u.user_id = f.user_id) WHERE f.user_id IS NULL' % endpoint)\n",
      "        \n",
      "            # go 100 at a time so we're not hitting the DB so much\n",
      "            users = [u[0] for u in litecur.fetchmany(100)]\n",
      "            if not users: break\n",
      "\n",
      "            for user_id in users:\n",
      "                ids = get_network(endpoint, user_id)\n",
      "    else: \n",
      "        try:\n",
      "            ids = []\n",
      "            # a user_id was passed in, fetch it and return a friends list\n",
      "            if endpoint == 'friends':\n",
      "                for page in tweepy.Cursor(api.friends_ids, id=user_id).pages():\n",
      "                    ids.extend(page)\n",
      "            elif endpoint == 'followers':\n",
      "                for page in tweepy.Cursor(api.followers_ids, id=user_id).pages():\n",
      "                    ids.extend(page)                           \n",
      "\n",
      "            __save_network(endpoint, user_id, ids)\n",
      "        except tweepy.TweepError, error: \n",
      "            __save_network(endpoint, user_id, None, error)\n",
      "            \n",
      "get_followers(385328465)"
     ],
     "language": "python",
     "metadata": {},
     "outputs": [
      {
       "output_type": "stream",
       "stream": "stdout",
       "text": [
        "saving 11\n"
       ]
      }
     ],
     "prompt_number": 111
    },
    {
     "cell_type": "code",
     "collapsed": false,
     "input": [
      "users.screen_name"
     ],
     "language": "python",
     "metadata": {},
     "outputs": [
      {
       "metadata": {},
       "output_type": "pyout",
       "prompt_number": 9,
       "text": [
        "u'fly_papers'"
       ]
      }
     ],
     "prompt_number": 9
    },
    {
     "cell_type": "code",
     "collapsed": false,
     "input": [],
     "language": "python",
     "metadata": {},
     "outputs": [
      {
       "output_type": "stream",
       "stream": "stdout",
       "text": [
        "385328465 sage_time\n",
        "352621130"
       ]
      },
      {
       "output_type": "stream",
       "stream": "stdout",
       "text": [
        " RamonDavisMark\n",
        "274002405"
       ]
      },
      {
       "output_type": "stream",
       "stream": "stdout",
       "text": [
        " HarrySpoelstra\n",
        "407766714"
       ]
      },
      {
       "output_type": "stream",
       "stream": "stdout",
       "text": [
        " NatRevNeurol\n",
        "27013292"
       ]
      },
      {
       "output_type": "stream",
       "stream": "stdout",
       "text": [
        " TheLancet\n",
        "119049059"
       ]
      },
      {
       "output_type": "stream",
       "stream": "stdout",
       "text": [
        " mzkhalil\n",
        "352228077"
       ]
      },
      {
       "output_type": "stream",
       "stream": "stdout",
       "text": [
        " Bill_Bl4ck\n",
        "83181400"
       ]
      },
      {
       "output_type": "stream",
       "stream": "stdout",
       "text": [
        " ewydh\n",
        "329358500"
       ]
      },
      {
       "output_type": "stream",
       "stream": "stdout",
       "text": [
        " annabelgillfi\n",
        "312886805"
       ]
      },
      {
       "output_type": "stream",
       "stream": "stdout",
       "text": [
        " viogibsix\n",
        "41426461"
       ]
      },
      {
       "output_type": "stream",
       "stream": "stdout",
       "text": [
        " SaraDivinorum\n"
       ]
      }
     ],
     "prompt_number": 115
    },
    {
     "cell_type": "code",
     "collapsed": false,
     "input": [
      "screen_names = ['sage_time', 'RamonDavisMark', 'HarrySpoelstra', 'NatRevNeurol', 'mzkhalil', 'Bill_Bl4ck', 'ewydh', 'annabelgillfi', 'viogibsix', 'SaraDivinorum', 'Migraine_Wisdom', 'TheLancet']\n",
      "print len(screen_names)"
     ],
     "language": "python",
     "metadata": {},
     "outputs": [
      {
       "output_type": "stream",
       "stream": "stdout",
       "text": [
        "11\n"
       ]
      }
     ],
     "prompt_number": 116
    },
    {
     "cell_type": "code",
     "collapsed": false,
     "input": [
      "user_ids = []\n",
      "for screen_name in screen_names:\n",
      "    try:\n",
      "        user = api.get_user(screen_name)\n",
      "        user_ids.append(user.id)\n",
      "    except tweepy.TweepError, error:\n",
      "        print screen_name, error\n",
      "        "
     ],
     "language": "python",
     "metadata": {},
     "outputs": [],
     "prompt_number": 119
    },
    {
     "cell_type": "code",
     "collapsed": false,
     "input": [
      "for user_id in user_ids:\n",
      "    get_followers(user_id)\n",
      "    get_friends(user_id)"
     ],
     "language": "python",
     "metadata": {},
     "outputs": [
      {
       "output_type": "stream",
       "stream": "stdout",
       "text": [
        "saving 11\n",
        "saving"
       ]
      },
      {
       "output_type": "stream",
       "stream": "stdout",
       "text": [
        " 0\n",
        "saving"
       ]
      },
      {
       "output_type": "stream",
       "stream": "stdout",
       "text": [
        " 116\n",
        "saving"
       ]
      },
      {
       "output_type": "stream",
       "stream": "stdout",
       "text": [
        " 458\n",
        "saving"
       ]
      },
      {
       "output_type": "stream",
       "stream": "stdout",
       "text": [
        " 560\n",
        "saving"
       ]
      },
      {
       "output_type": "stream",
       "stream": "stdout",
       "text": [
        " 927\n",
        "saving"
       ]
      },
      {
       "output_type": "stream",
       "stream": "stdout",
       "text": [
        " 9687\n",
        "saving"
       ]
      },
      {
       "output_type": "stream",
       "stream": "stdout",
       "text": [
        " 122\n",
        "saving"
       ]
      },
      {
       "output_type": "stream",
       "stream": "stdout",
       "text": [
        " 887\n",
        "saving"
       ]
      },
      {
       "output_type": "stream",
       "stream": "stdout",
       "text": [
        " 400\n",
        "saving"
       ]
      },
      {
       "output_type": "stream",
       "stream": "stdout",
       "text": [
        " 111\n",
        "saving"
       ]
      },
      {
       "output_type": "stream",
       "stream": "stdout",
       "text": [
        " 223\n",
        "saving"
       ]
      },
      {
       "output_type": "stream",
       "stream": "stdout",
       "text": [
        " 476\n",
        "saving"
       ]
      },
      {
       "output_type": "stream",
       "stream": "stdout",
       "text": [
        " 179\n",
        "saving"
       ]
      },
      {
       "output_type": "stream",
       "stream": "stdout",
       "text": [
        " 241\n",
        "saving"
       ]
      },
      {
       "output_type": "stream",
       "stream": "stdout",
       "text": [
        " 1095\n",
        "saving"
       ]
      },
      {
       "output_type": "stream",
       "stream": "stdout",
       "text": [
        " 181\n",
        "saving"
       ]
      },
      {
       "output_type": "stream",
       "stream": "stdout",
       "text": [
        " 545\n",
        "saving"
       ]
      },
      {
       "output_type": "stream",
       "stream": "stdout",
       "text": [
        " 140\n",
        "saving"
       ]
      },
      {
       "output_type": "stream",
       "stream": "stdout",
       "text": [
        " 283\n"
       ]
      }
     ],
     "prompt_number": 118
    },
    {
     "cell_type": "code",
     "collapsed": false,
     "input": [
      "0+ 458+ 927+ 122+ 400+ 223+ 179+ 1095+ 545+ 283"
     ],
     "language": "python",
     "metadata": {},
     "outputs": [
      {
       "metadata": {},
       "output_type": "pyout",
       "prompt_number": 120,
       "text": [
        "4232"
       ]
      }
     ],
     "prompt_number": 120
    },
    {
     "cell_type": "code",
     "collapsed": false,
     "input": [
      "with litecon:\n",
      "    litecur = litecon.cursor()\n",
      "    litecur.execute('SELECT user_id, screen_name FROM users WHERE botornot IS NULL LIMIT 2')\n",
      "\n",
      "    fetchedmany = litecur.fetchmany(100)\n",
      "# go 100 at a time so we're not hitting the DB so much\n",
      "#     users = [(u[0], u[1]) for u in ]\n"
     ],
     "language": "python",
     "metadata": {},
     "outputs": [],
     "prompt_number": 14
    },
    {
     "cell_type": "code",
     "collapsed": false,
     "input": [
      "import pandas as pd\n",
      "def tweetHarvester(thisString,hits):\n",
      "    query=tweepy.Cursor(api.search,  q=thisString+' filter:links').items(hits)\n",
      "    tweets= [status._json for status in query]\n",
      "    tweets=pd.DataFrame(tweets)\n",
      "    entities=pd.DataFrame(tweets[\"entities\"].to_dict()).T\n",
      "    entities=entities.rename(columns= lambda x: 'entities:'+x)\n",
      "    tweets=pd.concat([tweets,entities],axis=1)\n",
      "    metadata=pd.DataFrame(tweets[\"metadata\"].to_dict()).T\n",
      "    metadata=metadata.rename(columns= lambda x: 'metadata:'+x)\n",
      "    tweets=pd.concat([tweets,metadata],axis=1)\n",
      "    users=pd.DataFrame(tweets[\"user\"].to_dict()).T\n",
      "    users=users.rename(columns= lambda x: 'user:'+x)\n",
      "    tweets=pd.concat([tweets,users],axis=1)\n",
      "    tweets=tweets.drop(['entities','metadata','user'],axis=1)\n",
      "    return tweets"
     ],
     "language": "python",
     "metadata": {},
     "outputs": [],
     "prompt_number": 48
    },
    {
     "cell_type": "code",
     "collapsed": false,
     "input": [
      "df = tweetHarvester('newyorker.com', 2)"
     ],
     "language": "python",
     "metadata": {},
     "outputs": [],
     "prompt_number": 49
    },
    {
     "cell_type": "code",
     "collapsed": false,
     "input": [
      "for c in df.columns:\n",
      "    print c"
     ],
     "language": "python",
     "metadata": {},
     "outputs": [
      {
       "output_type": "stream",
       "stream": "stdout",
       "text": [
        "contributors\n",
        "coordinates\n",
        "created_at\n",
        "favorite_count\n",
        "favorited\n",
        "geo\n",
        "id\n",
        "id_str\n",
        "in_reply_to_screen_name\n",
        "in_reply_to_status_id\n",
        "in_reply_to_status_id_str\n",
        "in_reply_to_user_id\n",
        "in_reply_to_user_id_str\n",
        "is_quote_status\n",
        "lang\n",
        "place\n",
        "possibly_sensitive\n",
        "retweet_count\n",
        "retweeted\n",
        "retweeted_status\n",
        "source\n",
        "text\n",
        "truncated\n",
        "entities:hashtags\n",
        "entities:symbols\n",
        "entities:urls\n",
        "entities:user_mentions\n",
        "metadata:iso_language_code\n",
        "metadata:result_type\n",
        "user:contributors_enabled\n",
        "user:created_at\n",
        "user:default_profile\n",
        "user:default_profile_image\n",
        "user:description\n",
        "user:entities\n",
        "user:favourites_count\n",
        "user:follow_request_sent\n",
        "user:followers_count\n",
        "user:following\n",
        "user:friends_count\n",
        "user:geo_enabled\n",
        "user:has_extended_profile\n",
        "user:id\n",
        "user:id_str\n",
        "user:is_translation_enabled\n",
        "user:is_translator\n",
        "user:lang\n",
        "user:listed_count\n",
        "user:location\n",
        "user:name\n",
        "user:notifications\n",
        "user:profile_background_color\n",
        "user:profile_background_image_url\n",
        "user:profile_background_image_url_https\n",
        "user:profile_background_tile\n",
        "user:profile_banner_url\n",
        "user:profile_image_url\n",
        "user:profile_image_url_https\n",
        "user:profile_link_color\n",
        "user:profile_sidebar_border_color\n",
        "user:profile_sidebar_fill_color\n",
        "user:profile_text_color\n",
        "user:profile_use_background_image\n",
        "user:protected\n",
        "user:screen_name\n",
        "user:statuses_count\n",
        "user:time_zone\n",
        "user:url\n",
        "user:utc_offset\n",
        "user:verified\n"
       ]
      }
     ],
     "prompt_number": 52
    },
    {
     "cell_type": "code",
     "collapsed": false,
     "input": [
      "try:\n",
      "    api.update_status('dup')\n",
      "except tweepy.TweepError, error: \n",
      "    err = error"
     ],
     "language": "python",
     "metadata": {},
     "outputs": [],
     "prompt_number": 16
    },
    {
     "cell_type": "code",
     "collapsed": false,
     "input": [
      "screen_names = ['AnandWilson91', 'Firefly_fan', 'OnCritical', 'P1NDSTER', 'Paul_in_Aber', 'Whole9SoPacific', 'albertinquiet', 'johnpane', 'markushinka', 'nacho_zizou', 'satbhambra', 'seitics', 'bemyprimate', 'ACountyGurl', 'All4thelight', 'peter_makin', 'wt3']\n"
     ],
     "language": "python",
     "metadata": {},
     "outputs": [],
     "prompt_number": 2
    },
    {
     "cell_type": "code",
     "collapsed": false,
     "input": [
      "responses = {}\n",
      "for screen_name in screen_names:\n",
      "    try:\n",
      "        responses[screen_name] = api.get_user(screen_name=screen_names)\n",
      "    except tweepy.TweepError, error: \n",
      "        print screen_name, error.message[0]['message']"
     ],
     "language": "python",
     "metadata": {},
     "outputs": [
      {
       "output_type": "stream",
       "stream": "stdout",
       "text": [
        "AnandWilson91 User not found.\n",
        "Firefly_fan"
       ]
      },
      {
       "output_type": "stream",
       "stream": "stdout",
       "text": [
        " User not found.\n",
        "OnCritical"
       ]
      },
      {
       "output_type": "stream",
       "stream": "stdout",
       "text": [
        " User not found.\n",
        "P1NDSTER"
       ]
      },
      {
       "output_type": "stream",
       "stream": "stdout",
       "text": [
        " User not found.\n",
        "Paul_in_Aber"
       ]
      },
      {
       "output_type": "stream",
       "stream": "stdout",
       "text": [
        " User not found.\n",
        "Whole9SoPacific"
       ]
      },
      {
       "output_type": "stream",
       "stream": "stdout",
       "text": [
        " User not found.\n",
        "albertinquiet"
       ]
      },
      {
       "output_type": "stream",
       "stream": "stdout",
       "text": [
        " User not found.\n",
        "johnpane"
       ]
      },
      {
       "output_type": "stream",
       "stream": "stdout",
       "text": [
        " User not found.\n",
        "markushinka"
       ]
      },
      {
       "output_type": "stream",
       "stream": "stdout",
       "text": [
        " User not found.\n",
        "nacho_zizou"
       ]
      },
      {
       "output_type": "stream",
       "stream": "stdout",
       "text": [
        " User not found.\n",
        "satbhambra"
       ]
      },
      {
       "output_type": "stream",
       "stream": "stdout",
       "text": [
        " User not found.\n",
        "seitics"
       ]
      },
      {
       "output_type": "stream",
       "stream": "stdout",
       "text": [
        " User not found.\n",
        "bemyprimate"
       ]
      },
      {
       "output_type": "stream",
       "stream": "stdout",
       "text": [
        " User not found.\n",
        "ACountyGurl"
       ]
      },
      {
       "output_type": "stream",
       "stream": "stdout",
       "text": [
        " User not found.\n",
        "All4thelight"
       ]
      },
      {
       "output_type": "stream",
       "stream": "stdout",
       "text": [
        " User not found.\n",
        "peter_makin"
       ]
      },
      {
       "output_type": "stream",
       "stream": "stdout",
       "text": [
        " User not found.\n",
        "wt3"
       ]
      },
      {
       "output_type": "stream",
       "stream": "stdout",
       "text": [
        " User not found.\n"
       ]
      }
     ],
     "prompt_number": 15
    },
    {
     "cell_type": "code",
     "collapsed": false,
     "input": [
      "responses"
     ],
     "language": "python",
     "metadata": {},
     "outputs": [
      {
       "metadata": {},
       "output_type": "pyout",
       "prompt_number": 14,
       "text": [
        "{'ACountyGurl': u'User not found.',\n",
        " 'All4thelight': u'User not found.',\n",
        " 'AnandWilson91': u'User not found.',\n",
        " 'Firefly_fan': u'User not found.',\n",
        " 'OnCritical': u'User not found.',\n",
        " 'P1NDSTER': u'User not found.',\n",
        " 'Paul_in_Aber': u'User not found.',\n",
        " 'Whole9SoPacific': u'User not found.',\n",
        " 'albertinquiet': u'User not found.',\n",
        " 'bemyprimate': u'User not found.',\n",
        " 'johnpane': u'User not found.',\n",
        " 'markushinka': u'User not found.',\n",
        " 'nacho_zizou': u'User not found.',\n",
        " 'peter_makin': u'User not found.',\n",
        " 'satbhambra': u'User not found.',\n",
        " 'seitics': u'User not found.',\n",
        " 'wt3': u'User not found.'}"
       ]
      }
     ],
     "prompt_number": 14
    }
   ],
   "metadata": {}
  }
 ]
}