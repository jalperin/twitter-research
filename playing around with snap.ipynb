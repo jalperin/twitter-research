{
 "metadata": {
  "name": ""
 },
 "nbformat": 3,
 "nbformat_minor": 0,
 "worksheets": [
  {
   "cells": [
    {
     "cell_type": "code",
     "collapsed": false,
     "input": [
      "import * from snap"
     ],
     "language": "python",
     "metadata": {},
     "outputs": [
      {
       "ename": "SyntaxError",
       "evalue": "invalid syntax (<ipython-input-30-159507689a6d>, line 1)",
       "output_type": "pyerr",
       "traceback": [
        "\u001b[0;36m  File \u001b[0;32m\"<ipython-input-30-159507689a6d>\"\u001b[0;36m, line \u001b[0;32m1\u001b[0m\n\u001b[0;31m    import * from snap\u001b[0m\n\u001b[0m           ^\u001b[0m\n\u001b[0;31mSyntaxError\u001b[0m\u001b[0;31m:\u001b[0m invalid syntax\n"
       ]
      }
     ],
     "prompt_number": 30
    },
    {
     "cell_type": "code",
     "collapsed": false,
     "input": [
      "N = snap.LoadEdgeList(snap.PNEANet, 'data/evolBioAllFollowers.tsv', 0, 1)"
     ],
     "language": "python",
     "metadata": {},
     "outputs": [],
     "prompt_number": 24
    },
    {
     "cell_type": "code",
     "collapsed": false,
     "input": [
      "i = 0\n",
      "for NI in N.Nodes():\n",
      "    i+=1\n",
      "    print \"node id %d with out-degree %d and in-degree %d\" % (\n",
      "    NI.GetId(), NI.GetOutDeg(), NI.GetInDeg())"
     ],
     "language": "python",
     "metadata": {},
     "outputs": [],
     "prompt_number": 26
    },
    {
     "cell_type": "code",
     "collapsed": false,
     "input": [
      "UGraph = snap.ConvertGraph(snap.PUNGraph,N)\n",
      "CmtyV = snap.TCnComV()\n",
      "modularity = snap.CommunityCNM(UGraph, CmtyV)\n",
      "for Cmty in CmtyV:\n",
      "    print \"Community: \"\n",
      "    for NI in Cmty:\n",
      "        print NI\n",
      "print \"The modularity of the network is %f\" % modularity"
     ],
     "language": "python",
     "metadata": {},
     "outputs": [],
     "prompt_number": "*"
    }
   ],
   "metadata": {}
  }
 ]
}