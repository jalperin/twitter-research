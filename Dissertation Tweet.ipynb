{
 "metadata": {
  "name": ""
 },
 "nbformat": 3,
 "nbformat_minor": 0,
 "worksheets": [
  {
   "cells": [
    {
     "cell_type": "code",
     "collapsed": false,
     "input": [
      "import tweepy\n",
      "import re\n",
      "import json\n",
      "\n",
      "import random\n",
      "\n",
      "from time import sleep\n",
      "\n",
      "import sqlite3 as lite\n",
      "\n",
      "import datetime, time, os, sys\n",
      "import argparse, ConfigParser\n",
      "Config = ConfigParser.ConfigParser()\n",
      "Config.read('config.cnf')\n",
      "\n",
      "consumer_key = Config.get('twitterdissertation', 'consumer_key')\n",
      "consumer_secret = Config.get('twitterdissertation', 'consumer_secret')\n",
      "access_token = Config.get('twitterdissertation', 'access_token')\n",
      "access_token_secret = Config.get('twitterdissertation', 'access_token_secret')\n",
      "\n",
      "auth = tweepy.OAuthHandler(consumer_key, consumer_secret)\n",
      "auth.set_access_token(access_token, access_token_secret)\n",
      "# set up access to the Twitter API\n",
      "api = tweepy.API(auth, wait_on_rate_limit=True, wait_on_rate_limit_notify=True)"
     ],
     "language": "python",
     "metadata": {},
     "outputs": [],
     "prompt_number": 41
    },
    {
     "cell_type": "code",
     "collapsed": false,
     "input": [
      "with open('tweetabledissertation.md') as f:\n",
      "    diss=f.read().strip()                                        "
     ],
     "language": "python",
     "metadata": {},
     "outputs": [],
     "prompt_number": 1
    },
    {
     "cell_type": "code",
     "collapsed": false,
     "input": [
      "import nltk.data\n",
      "from nltk import word_tokenize\n",
      "sent_detector = nltk.data.load('tokenizers/punkt/english.pickle')"
     ],
     "language": "python",
     "metadata": {},
     "outputs": [],
     "prompt_number": 2
    },
    {
     "cell_type": "code",
     "collapsed": false,
     "input": [
      "diss_sent = sent_detector.tokenize(diss)"
     ],
     "language": "python",
     "metadata": {},
     "outputs": [],
     "prompt_number": 3
    },
    {
     "cell_type": "code",
     "collapsed": false,
     "input": [
      "tw = \"The Public Impact of Latin America's Approach to Open Access, by Juan Pablo Alperin\"\n",
      "api.update_status(tw)"
     ],
     "language": "python",
     "metadata": {},
     "outputs": []
    },
    {
     "cell_type": "code",
     "collapsed": false,
     "input": [
      "i = 0\n",
      "try: \n",
      "    for sent in diss_sent[i:]: \n",
      "        sent = sent.strip()\n",
      "        tw = ''\n",
      "        for token in sent.split(' '): \n",
      "            if len(tw) + len(token) < 140:\n",
      "                tw = \"%s %s\" % (tw, token)\n",
      "            else:\n",
      "                if 'automatically captures' in tw:\n",
      "                    print i\n",
      "                    print tw\n",
      "                tw = token\n",
      "      \n",
      "        i = i + 1\n",
      "        if 'automatically captures' in tw:\n",
      "            print i\n",
      "            print tw\n",
      "\n",
      "except KeyboardInterrupt, error:\n",
      "    print \"at sentence: %s\" % i\n",
      "    raise \n",
      "    \n",
      "            "
     ],
     "language": "python",
     "metadata": {},
     "outputs": [
      {
       "output_type": "stream",
       "stream": "stdout",
       "text": [
        "365\n",
        " The online nature of the survey automatically captures the incident and allows for it to be analyzed along with other data about the\n",
        "didn't find\n"
       ]
      }
     ],
     "prompt_number": 4
    },
    {
     "cell_type": "code",
     "collapsed": false,
     "input": [],
     "language": "python",
     "metadata": {},
     "outputs": []
    }
   ],
   "metadata": {}
  }
 ]
}