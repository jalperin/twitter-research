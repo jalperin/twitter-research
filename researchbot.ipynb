{
 "metadata": {
  "name": ""
 },
 "nbformat": 3,
 "nbformat_minor": 0,
 "worksheets": [
  {
   "cells": [
    {
     "cell_type": "code",
     "collapsed": false,
     "input": [
      "import tweepy\n",
      "import re\n",
      "import json\n",
      "\n",
      "import random\n",
      "\n",
      "from time import sleep\n",
      "\n",
      "import sqlite3 as lite\n",
      "\n",
      "import datetime, time, os, sys\n",
      "import argparse, ConfigParser\n",
      "Config = ConfigParser.ConfigParser()\n",
      "Config.read('config.cnf')\n",
      "\n",
      "consumer_key = Config.get('surveysbot', 'consumer_key')\n",
      "consumer_secret = Config.get('surveysbot', 'consumer_secret')\n",
      "access_token = Config.get('surveysbot', 'access_token')\n",
      "access_token_secret = Config.get('surveysbot', 'access_token_secret')\n",
      "\n",
      "auth = tweepy.OAuthHandler(consumer_key, consumer_secret)\n",
      "auth.set_access_token(access_token, access_token_secret)\n",
      "# set up access to the Twitter API\n",
      "api = tweepy.API(auth, wait_on_rate_limit=True, wait_on_rate_limit_notify=True)"
     ],
     "language": "python",
     "metadata": {},
     "outputs": [],
     "prompt_number": 11
    },
    {
     "cell_type": "code",
     "collapsed": false,
     "input": [
      "user = api.get_user(screen_name='academicornot')"
     ],
     "language": "python",
     "metadata": {},
     "outputs": [],
     "prompt_number": 6
    },
    {
     "cell_type": "code",
     "collapsed": false,
     "input": [
      "for i in range(10):\n",
      "    print i, i%4"
     ],
     "language": "python",
     "metadata": {},
     "outputs": [
      {
       "output_type": "stream",
       "stream": "stdout",
       "text": [
        "0 0\n",
        "1 1\n",
        "2 2\n",
        "3 3\n",
        "4 0\n",
        "5 1\n",
        "6 2\n",
        "7 3\n",
        "8 0\n",
        "9 1\n"
       ]
      }
     ],
     "prompt_number": 18
    },
    {
     "cell_type": "code",
     "collapsed": false,
     "input": [
      "tweet = api.user_timeline(count = 1)[0]"
     ],
     "language": "python",
     "metadata": {},
     "outputs": [],
     "prompt_number": 13
    },
    {
     "cell_type": "code",
     "collapsed": false,
     "input": [],
     "language": "python",
     "metadata": {},
     "outputs": [
      {
       "metadata": {},
       "output_type": "pyout",
       "prompt_number": 23,
       "text": [
        "'api'"
       ]
      }
     ],
     "prompt_number": 23
    },
    {
     "cell_type": "code",
     "collapsed": false,
     "input": [
      "api.user_timeline(id = self.client_id, count = 1)[0]"
     ],
     "language": "python",
     "metadata": {},
     "outputs": [
      {
       "metadata": {},
       "output_type": "pyout",
       "prompt_number": 8,
       "text": [
        "Status(contributors=None, truncated=False, text=u'test reply tweet', is_quote_status=False, in_reply_to_status_id=821076426157801473, id=821078420066967552, favorite_count=0, _api=<tweepy.api.API object at 0x1130d7c90>, author=User(follow_request_sent=False, has_extended_profile=False, profile_use_background_image=False, _json={u'follow_request_sent': False, u'has_extended_profile': False, u'profile_use_background_image': False, u'default_profile_image': False, u'id': 388503174, u'profile_background_image_url_https': u'https://abs.twimg.com/images/themes/theme15/bg.png', u'verified': False, u'translator_type': u'none', u'profile_text_color': u'000000', u'profile_image_url_https': u'https://pbs.twimg.com/profile_images/779936957707145216/UNvHY6nz_normal.jpg', u'profile_sidebar_fill_color': u'000000', u'entities': {u'url': {u'urls': [{u'url': u'https://t.co/2pqTi1XObo', u'indices': [0, 23], u'expanded_url': u'http://alperin.ca', u'display_url': u'alperin.ca'}]}, u'description': {u'urls': []}}, u'followers_count': 1379, u'profile_sidebar_border_color': u'000000', u'id_str': u'388503174', u'profile_background_color': u'000000', u'listed_count': 93, u'is_translation_enabled': False, u'utc_offset': -28800, u'statuses_count': 4618, u'description': u'Latin American extraordinaire; scholar; family man; publishing revolutionary; self-declared king of bocce. Tweets #openaccess #altmetrics. Part of @pkp @MpubSFU', u'friends_count': 839, u'location': u'Vancouver, British Columbia', u'profile_link_color': u'222222', u'profile_image_url': u'http://pbs.twimg.com/profile_images/779936957707145216/UNvHY6nz_normal.jpg', u'following': False, u'geo_enabled': True, u'profile_banner_url': u'https://pbs.twimg.com/profile_banners/388503174/1461175575', u'profile_background_image_url': u'http://abs.twimg.com/images/themes/theme15/bg.png', u'screen_name': u'juancommander', u'lang': u'en', u'profile_background_tile': False, u'favourites_count': 2004, u'name': u'Juan Pablo Alperin', u'notifications': False, u'url': u'https://t.co/2pqTi1XObo', u'created_at': u'Mon Oct 10 21:12:33 +0000 2011', u'contributors_enabled': False, u'time_zone': u'Pacific Time (US & Canada)', u'protected': False, u'default_profile': False, u'is_translator': False}, time_zone=u'Pacific Time (US & Canada)', id=388503174, description=u'Latin American extraordinaire; scholar; family man; publishing revolutionary; self-declared king of bocce. Tweets #openaccess #altmetrics. Part of @pkp @MpubSFU', _api=<tweepy.api.API object at 0x1130d7c90>, verified=False, profile_text_color=u'000000', profile_image_url_https=u'https://pbs.twimg.com/profile_images/779936957707145216/UNvHY6nz_normal.jpg', profile_sidebar_fill_color=u'000000', is_translator=False, geo_enabled=True, entities={u'url': {u'urls': [{u'url': u'https://t.co/2pqTi1XObo', u'indices': [0, 23], u'expanded_url': u'http://alperin.ca', u'display_url': u'alperin.ca'}]}, u'description': {u'urls': []}}, followers_count=1379, protected=False, id_str=u'388503174', default_profile_image=False, listed_count=93, lang=u'en', utc_offset=-28800, statuses_count=4618, profile_background_color=u'000000', friends_count=839, profile_link_color=u'222222', profile_image_url=u'http://pbs.twimg.com/profile_images/779936957707145216/UNvHY6nz_normal.jpg', notifications=False, default_profile=False, profile_background_image_url_https=u'https://abs.twimg.com/images/themes/theme15/bg.png', profile_banner_url=u'https://pbs.twimg.com/profile_banners/388503174/1461175575', profile_background_image_url=u'http://abs.twimg.com/images/themes/theme15/bg.png', name=u'Juan Pablo Alperin', is_translation_enabled=False, profile_background_tile=False, favourites_count=2004, screen_name=u'juancommander', url=u'https://t.co/2pqTi1XObo', created_at=datetime.datetime(2011, 10, 10, 21, 12, 33), contributors_enabled=False, location=u'Vancouver, British Columbia', profile_sidebar_border_color=u'000000', translator_type=u'none', following=False), _json={u'contributors': None, u'truncated': False, u'text': u'test reply tweet', u'is_quote_status': False, u'in_reply_to_status_id': 821076426157801473, u'id': 821078420066967552, u'favorite_count': 0, u'source': u'<a href=\"http://alperin.ca\" rel=\"nofollow\">juancommander</a>', u'retweeted': False, u'coordinates': None, u'entities': {u'symbols': [], u'user_mentions': [], u'hashtags': [], u'urls': []}, u'in_reply_to_screen_name': u'juancommander', u'in_reply_to_user_id': 388503174, u'retweet_count': 0, u'id_str': u'821078420066967552', u'favorited': False, u'user': {u'follow_request_sent': False, u'has_extended_profile': False, u'profile_use_background_image': False, u'default_profile_image': False, u'id': 388503174, u'profile_background_image_url_https': u'https://abs.twimg.com/images/themes/theme15/bg.png', u'verified': False, u'translator_type': u'none', u'profile_text_color': u'000000', u'profile_image_url_https': u'https://pbs.twimg.com/profile_images/779936957707145216/UNvHY6nz_normal.jpg', u'profile_sidebar_fill_color': u'000000', u'entities': {u'url': {u'urls': [{u'url': u'https://t.co/2pqTi1XObo', u'indices': [0, 23], u'expanded_url': u'http://alperin.ca', u'display_url': u'alperin.ca'}]}, u'description': {u'urls': []}}, u'followers_count': 1379, u'profile_sidebar_border_color': u'000000', u'id_str': u'388503174', u'profile_background_color': u'000000', u'listed_count': 93, u'is_translation_enabled': False, u'utc_offset': -28800, u'statuses_count': 4618, u'description': u'Latin American extraordinaire; scholar; family man; publishing revolutionary; self-declared king of bocce. Tweets #openaccess #altmetrics. Part of @pkp @MpubSFU', u'friends_count': 839, u'location': u'Vancouver, British Columbia', u'profile_link_color': u'222222', u'profile_image_url': u'http://pbs.twimg.com/profile_images/779936957707145216/UNvHY6nz_normal.jpg', u'following': False, u'geo_enabled': True, u'profile_banner_url': u'https://pbs.twimg.com/profile_banners/388503174/1461175575', u'profile_background_image_url': u'http://abs.twimg.com/images/themes/theme15/bg.png', u'screen_name': u'juancommander', u'lang': u'en', u'profile_background_tile': False, u'favourites_count': 2004, u'name': u'Juan Pablo Alperin', u'notifications': False, u'url': u'https://t.co/2pqTi1XObo', u'created_at': u'Mon Oct 10 21:12:33 +0000 2011', u'contributors_enabled': False, u'time_zone': u'Pacific Time (US & Canada)', u'protected': False, u'default_profile': False, u'is_translator': False}, u'geo': None, u'in_reply_to_user_id_str': u'388503174', u'lang': u'en', u'created_at': u'Mon Jan 16 19:35:24 +0000 2017', u'in_reply_to_status_id_str': u'821076426157801473', u'place': None}, coordinates=None, entities={u'symbols': [], u'user_mentions': [], u'hashtags': [], u'urls': []}, in_reply_to_screen_name=u'juancommander', id_str=u'821078420066967552', retweet_count=0, in_reply_to_user_id=388503174, favorited=False, source_url=u'http://alperin.ca', user=User(follow_request_sent=False, has_extended_profile=False, profile_use_background_image=False, _json={u'follow_request_sent': False, u'has_extended_profile': False, u'profile_use_background_image': False, u'default_profile_image': False, u'id': 388503174, u'profile_background_image_url_https': u'https://abs.twimg.com/images/themes/theme15/bg.png', u'verified': False, u'translator_type': u'none', u'profile_text_color': u'000000', u'profile_image_url_https': u'https://pbs.twimg.com/profile_images/779936957707145216/UNvHY6nz_normal.jpg', u'profile_sidebar_fill_color': u'000000', u'entities': {u'url': {u'urls': [{u'url': u'https://t.co/2pqTi1XObo', u'indices': [0, 23], u'expanded_url': u'http://alperin.ca', u'display_url': u'alperin.ca'}]}, u'description': {u'urls': []}}, u'followers_count': 1379, u'profile_sidebar_border_color': u'000000', u'id_str': u'388503174', u'profile_background_color': u'000000', u'listed_count': 93, u'is_translation_enabled': False, u'utc_offset': -28800, u'statuses_count': 4618, u'description': u'Latin American extraordinaire; scholar; family man; publishing revolutionary; self-declared king of bocce. Tweets #openaccess #altmetrics. Part of @pkp @MpubSFU', u'friends_count': 839, u'location': u'Vancouver, British Columbia', u'profile_link_color': u'222222', u'profile_image_url': u'http://pbs.twimg.com/profile_images/779936957707145216/UNvHY6nz_normal.jpg', u'following': False, u'geo_enabled': True, u'profile_banner_url': u'https://pbs.twimg.com/profile_banners/388503174/1461175575', u'profile_background_image_url': u'http://abs.twimg.com/images/themes/theme15/bg.png', u'screen_name': u'juancommander', u'lang': u'en', u'profile_background_tile': False, u'favourites_count': 2004, u'name': u'Juan Pablo Alperin', u'notifications': False, u'url': u'https://t.co/2pqTi1XObo', u'created_at': u'Mon Oct 10 21:12:33 +0000 2011', u'contributors_enabled': False, u'time_zone': u'Pacific Time (US & Canada)', u'protected': False, u'default_profile': False, u'is_translator': False}, time_zone=u'Pacific Time (US & Canada)', id=388503174, description=u'Latin American extraordinaire; scholar; family man; publishing revolutionary; self-declared king of bocce. Tweets #openaccess #altmetrics. Part of @pkp @MpubSFU', _api=<tweepy.api.API object at 0x1130d7c90>, verified=False, profile_text_color=u'000000', profile_image_url_https=u'https://pbs.twimg.com/profile_images/779936957707145216/UNvHY6nz_normal.jpg', profile_sidebar_fill_color=u'000000', is_translator=False, geo_enabled=True, entities={u'url': {u'urls': [{u'url': u'https://t.co/2pqTi1XObo', u'indices': [0, 23], u'expanded_url': u'http://alperin.ca', u'display_url': u'alperin.ca'}]}, u'description': {u'urls': []}}, followers_count=1379, protected=False, id_str=u'388503174', default_profile_image=False, listed_count=93, lang=u'en', utc_offset=-28800, statuses_count=4618, profile_background_color=u'000000', friends_count=839, profile_link_color=u'222222', profile_image_url=u'http://pbs.twimg.com/profile_images/779936957707145216/UNvHY6nz_normal.jpg', notifications=False, default_profile=False, profile_background_image_url_https=u'https://abs.twimg.com/images/themes/theme15/bg.png', profile_banner_url=u'https://pbs.twimg.com/profile_banners/388503174/1461175575', profile_background_image_url=u'http://abs.twimg.com/images/themes/theme15/bg.png', name=u'Juan Pablo Alperin', is_translation_enabled=False, profile_background_tile=False, favourites_count=2004, screen_name=u'juancommander', url=u'https://t.co/2pqTi1XObo', created_at=datetime.datetime(2011, 10, 10, 21, 12, 33), contributors_enabled=False, location=u'Vancouver, British Columbia', profile_sidebar_border_color=u'000000', translator_type=u'none', following=False), geo=None, in_reply_to_user_id_str=u'388503174', lang=u'en', created_at=datetime.datetime(2017, 1, 16, 19, 35, 24), in_reply_to_status_id_str=u'821076426157801473', place=None, source=u'juancommander', retweeted=False)"
       ]
      }
     ],
     "prompt_number": 8
    },
    {
     "cell_type": "code",
     "collapsed": false,
     "input": [
      "variants = range(1,7) + range(13,19)\n",
      "random.shuffle(variants) # so that we don't test variant 1 more than the others on restarts\n",
      "\n",
      "print variants"
     ],
     "language": "python",
     "metadata": {},
     "outputs": [
      {
       "output_type": "stream",
       "stream": "stdout",
       "text": [
        "[4, 6, 1, 15, 2, 14, 17, 13, 5, 16, 3, 18]\n"
       ]
      }
     ],
     "prompt_number": 2
    },
    {
     "cell_type": "code",
     "collapsed": false,
     "input": [
      "#juancommander\n",
      "consumer_key = 'DTHU5ejF9M83tS8JWeoeFGvix'\n",
      "consumer_secret = 'bQH60O4NEcigLaE7wEbf9InfoqW5x27fUe69SMLpTmaWY1N6mk'\n",
      "access_token = '388503174-ILHzQL5HmYyWOTAkZ5nm9aVLWwjD0dprkQDxc8CD'\n",
      "access_token_secret = 'O0ZQJToztY4V4JgWKiSl5wh1ajvweuDSsrYOGmStwifu9'\n",
      "\n",
      "auth = tweepy.OAuthHandler(consumer_key, consumer_secret)\n",
      "auth.set_access_token(access_token, access_token_secret)\n",
      "api_juancommander = tweepy.API(auth, wait_on_rate_limit=True, wait_on_rate_limit_notify=True)"
     ],
     "language": "python",
     "metadata": {},
     "outputs": [],
     "prompt_number": 36
    },
    {
     "cell_type": "code",
     "collapsed": false,
     "input": [
      "#sfupubresearch\n",
      "consumer_key = 'x4x6rrFokpD3awsx4UYeSYiha'\n",
      "consumer_secret = 'XjPQsXHxYzUhpQW3pUGtoqeqpj9w32udQyOrpJtZM1wUwFQE0x'\n",
      "access_token = '707775458608164864-58j5LZ4Sryh0kKyru2444AHsZSNGASS'\n",
      "access_token_secret = 'AXAXsrV2B2nZbDmvKhCCD5dILeFfUzK5fSJgbjieNWmqE'\n",
      "\n",
      "auth = tweepy.OAuthHandler(consumer_key, consumer_secret)\n",
      "auth.set_access_token(access_token, access_token_secret)\n",
      "api2 = tweepy.API(auth, wait_on_rate_limit=True, wait_on_rate_limit_notify=True)"
     ],
     "language": "python",
     "metadata": {},
     "outputs": [],
     "prompt_number": 3
    },
    {
     "cell_type": "code",
     "collapsed": false,
     "input": [
      "mentions = api2.mentions_timeline(count = 10)"
     ],
     "language": "python",
     "metadata": {},
     "outputs": [],
     "prompt_number": 7
    },
    {
     "cell_type": "code",
     "collapsed": false,
     "input": [
      "api.update_statusapi.update_status('Goodnight @juancommander. %s' %)"
     ],
     "language": "python",
     "metadata": {},
     "outputs": [
      {
       "metadata": {},
       "output_type": "pyout",
       "prompt_number": 8,
       "text": [
        "769431422360752128"
       ]
      }
     ],
     "prompt_number": 8
    },
    {
     "cell_type": "code",
     "collapsed": false,
     "input": [
      "def test_mentions():\n",
      "    t = 'ah ah ah ah staying alive @sfupubresearch, staying alive %s %s' % ( datetime.datetime.now().isoformat(), ''.join([random.choice('abcdefghijklmnopqrstuvwxyz') for x in range(8)]))\n",
      "    testtweet = api.update_status(t)\n",
      "\n",
      "    for i in [1,2]:\n",
      "        time.sleep(30)\n",
      "        mentions = api2.mentions_timeline(count = 5)\n",
      "        for mention in mentions: \n",
      "            if mention.id == testtweet.id:\n",
      "                api.destroy_status(testtweet.id)\n",
      "                print '%s was mentioned' % testtweet.id\n",
      "                return True\n",
      "    \n",
      "    print 'mentions not working as of %s' & datetime.datetime.now().isoformat()\n",
      "    return False\n",
      "\n",
      "while not test_mentions()\n",
      "    time.sleep(60*60)\n"
     ],
     "language": "python",
     "metadata": {},
     "outputs": [
      {
       "ename": "NameError",
       "evalue": "global name 'true' is not defined",
       "output_type": "pyerr",
       "traceback": [
        "\u001b[0;31m---------------------------------------------------------------------------\u001b[0m\n\u001b[0;31mNameError\u001b[0m                                 Traceback (most recent call last)",
        "\u001b[0;32m<ipython-input-39-d3c1a31e7a36>\u001b[0m in \u001b[0;36m<module>\u001b[0;34m()\u001b[0m\n\u001b[1;32m     13\u001b[0m     \u001b[0;32mreturn\u001b[0m \u001b[0mfalse\u001b[0m\u001b[0;34m\u001b[0m\u001b[0m\n\u001b[1;32m     14\u001b[0m \u001b[0;34m\u001b[0m\u001b[0m\n\u001b[0;32m---> 15\u001b[0;31m \u001b[0;32mprint\u001b[0m \u001b[0mtest_mentions\u001b[0m\u001b[0;34m(\u001b[0m\u001b[0;34m)\u001b[0m\u001b[0;34m\u001b[0m\u001b[0m\n\u001b[0m",
        "\u001b[0;32m<ipython-input-39-d3c1a31e7a36>\u001b[0m in \u001b[0;36mtest_mentions\u001b[0;34m()\u001b[0m\n\u001b[1;32m     10\u001b[0m                 \u001b[0mapi_juancommander\u001b[0m\u001b[0;34m.\u001b[0m\u001b[0mdestroy_status\u001b[0m\u001b[0;34m(\u001b[0m\u001b[0mtesttweet\u001b[0m\u001b[0;34m.\u001b[0m\u001b[0mid\u001b[0m\u001b[0;34m)\u001b[0m\u001b[0;34m\u001b[0m\u001b[0m\n\u001b[1;32m     11\u001b[0m                 \u001b[0;32mprint\u001b[0m \u001b[0;34m'%s was mentioned'\u001b[0m \u001b[0;34m%\u001b[0m \u001b[0mtesttweet\u001b[0m\u001b[0;34m.\u001b[0m\u001b[0mid\u001b[0m\u001b[0;34m\u001b[0m\u001b[0m\n\u001b[0;32m---> 12\u001b[0;31m                 \u001b[0;32mreturn\u001b[0m \u001b[0mtrue\u001b[0m\u001b[0;34m\u001b[0m\u001b[0m\n\u001b[0m\u001b[1;32m     13\u001b[0m     \u001b[0;32mreturn\u001b[0m \u001b[0mfalse\u001b[0m\u001b[0;34m\u001b[0m\u001b[0m\n\u001b[1;32m     14\u001b[0m \u001b[0;34m\u001b[0m\u001b[0m\n",
        "\u001b[0;31mNameError\u001b[0m: global name 'true' is not defined"
       ]
      },
      {
       "output_type": "stream",
       "stream": "stdout",
       "text": [
        "769437768237715456 was mentioned\n"
       ]
      }
     ],
     "prompt_number": 39
    },
    {
     "cell_type": "code",
     "collapsed": false,
     "input": [
      "consumer_key = Config.get('twittersfupubresearch', 'consumer_key')\n",
      "consumer_secret = Config.get('twittersfupubresearch', 'consumer_secret')\n",
      "access_token = Config.get('twittersfupubresearch', 'access_token')\n",
      "access_token_secret = Config.get('twittersfupubresearch', 'access_token_secret')\n",
      "\n",
      "auth = tweepy.OAuthHandler(consumer_key, consumer_secret)\n",
      "auth.set_access_token(access_token, access_token_secret)\n",
      "# set up access to the Twitter API\n",
      "api2 = tweepy.API(auth, wait_on_rate_limit=True, wait_on_rate_limit_notify=True)"
     ],
     "language": "python",
     "metadata": {},
     "outputs": [],
     "prompt_number": 58
    },
    {
     "cell_type": "code",
     "collapsed": false,
     "input": [
      "    for i in [1,2,3]:\n",
      "        print '.'*i + ' ', \n"
     ],
     "language": "python",
     "metadata": {},
     "outputs": [
      {
       "output_type": "stream",
       "stream": "stdout",
       "text": [
        ".  ..  ... \n"
       ]
      }
     ],
     "prompt_number": 61
    },
    {
     "cell_type": "code",
     "collapsed": false,
     "input": [
      "screen_name = 'stefhaustein'\n",
      "tweet = api.update_status(\"It is me again. Doing another test. Did you get a notification this time? Can you reply?\\n\\nThanks @%s!\" % screen_name);"
     ],
     "language": "python",
     "metadata": {},
     "outputs": [],
     "prompt_number": 31
    },
    {
     "cell_type": "code",
     "collapsed": false,
     "input": [
      "import pandas as pd\n",
      "con = lite.connect('data/slate.db')"
     ],
     "language": "python",
     "metadata": {},
     "outputs": [],
     "prompt_number": 3
    },
    {
     "cell_type": "code",
     "collapsed": false,
     "input": [
      "def grouped_first(grouped):\n",
      "    if len(grouped) > 0:\n",
      "        return grouped.iloc[0]\n",
      "    return np.nan\n",
      "\n",
      "\n"
     ],
     "language": "python",
     "metadata": {},
     "outputs": [],
     "prompt_number": 5
    },
    {
     "cell_type": "code",
     "collapsed": false,
     "input": [
      "df = pd.read_sql(\"SELECT id_str, tweet FROM tweet_data WHERE tweet IS NOT NULL \", con, index_col='id_str')\n",
      "    \n",
      "df['tweet'] = df.tweet.apply(lambda x: json.loads(x) if x is not None else None)\n",
      "df['user_id_str'] = df.tweet.apply(lambda x: x['user']['id_str'])\n"
     ],
     "language": "python",
     "metadata": {},
     "outputs": [],
     "prompt_number": 4
    },
    {
     "cell_type": "code",
     "collapsed": false,
     "input": [
      "df = df.reset_index().groupby('user_id_str').agg(grouped_first).reset_index()\n",
      "df['created_at'] = df.tweet.apply(lambda x: time.strftime('%Y-%m-%d %H:%M:%S', time.strptime(x['created_at'],'%a %b %d %H:%M:%S +0000 %Y')))\n",
      "df['created_at_dayofweek'] = df.tweet.apply(lambda x: x['created_at'][0:3])\n",
      "df['screen_name'] = df.tweet.apply(lambda x: x['user']['screen_name'])\n",
      "\n",
      "df['user_utc_offset'] = df.tweet.apply(lambda x: x['user']['utc_offset'])\n",
      "df['user_followers_count'] = df.tweet.apply(lambda x: x['user']['followers_count'])\n",
      "df['user_friends_count'] = df.tweet.apply(lambda x: x['user']['friends_count'])\n",
      "df['user_description'] = df.tweet.apply(lambda x: re.sub( '\\s+', ' ', x['user']['description']).strip())\n",
      "df['is_retweet'] = df.tweet.apply(lambda x: 'retweeted_status' in x)\n",
      "df['retweet_of_status_id_str'] = df.tweet.apply(lambda x: x['retweeted_status']['id_str'] if 'retweeted_status' in x else None)\n",
      "df['retweet_of_screen_name'] = df.tweet.apply(lambda x: x['retweeted_status']['user']['screen_name'] if 'retweeted_status' in x else None)\n",
      "df['is_reply'] = df.tweet.apply(lambda x: x['in_reply_to_status_id'] != None)\n",
      "df['in_reply_to_status_id_str'] = df.tweet.apply(lambda x: x['in_reply_to_status_id_str'])\n",
      "df['in_reply_to_screen_name'] = df.tweet.apply(lambda x: x['in_reply_to_screen_name'])\n",
      "df['event_number'] = df.index.map(lambda x: df.index.get_loc(x))\n",
      "df['text'] = df.tweet.apply(lambda x: re.sub( '\\s+', ' ', x['text']).strip()) # remove commas for CSV simplicity\n"
     ],
     "language": "python",
     "metadata": {},
     "outputs": [],
     "prompt_number": 6
    },
    {
     "cell_type": "code",
     "collapsed": false,
     "input": [
      "print len(df)"
     ],
     "language": "python",
     "metadata": {},
     "outputs": [
      {
       "output_type": "stream",
       "stream": "stdout",
       "text": [
        "35618\n"
       ]
      }
     ],
     "prompt_number": 7
    },
    {
     "cell_type": "code",
     "collapsed": false,
     "input": [
      "variants = range(1,7) + range(13,19)\n",
      "def get_variant(i):\n",
      "    return variants[i % len(variants)]\n",
      "\n",
      "def get_tweet_question(variant, screen_name):\n",
      "    tw = lead = question = prepend = append = ''\n",
      "    \n",
      "    if (variant <= 12):\n",
      "        lead = \"Please help us understand Slate readers.\"\n",
      "    else:\n",
      "        lead = \"You recently shared a Slate article, could you tell us:\"\n",
      "    \n",
      "    if (variant % 6 == 1 or variant % 6 == 2):\n",
      "        question = \"How do you usually find articles from Slate?\"\n",
      "    \n",
      "    elif (variant %6 == 3 or variant %6 == 4):\n",
      "        question = \"Is Twitter the way you usually find articles from Slate?\"\n",
      "    \n",
      "    elif (variant %6 == 5 or variant %6 == 0):\n",
      "        question = \"Do you read Slate Magazine often, sometimes, or never?\"\n",
      "\n",
      "    if send_as_reply(variant):\n",
      "        prepend = '@' + screen_name + ' '\n",
      "        append = \"Thanks!\"\n",
      "    \n",
      "    else:\n",
      "        in_reply_to_status_id = None\n",
      "        append = \"Thanks @\" + screen_name + \"!\"\n",
      "    \n",
      "    if (variant % 12 <= 6 and variant % 12 > 0):\n",
      "        tw = prepend + lead + \" \" + question + \" \" + append\n",
      "    else:\n",
      "        tw = prepend + lead + \" \" + append\n",
      "    \n",
      "    return tw\n",
      "        \n",
      "def send_as_reply(variant):\n",
      "    return (variant %2 == 1)\n",
      "\n",
      "df.reset_index(inplace=True)\n",
      "df['variant'] = df.index.map(lambda x: get_variant(df.index.get_loc(x)))\n",
      "df['as_reply'] = df.variant.map(send_as_reply)\n",
      "df['tweet_question'] = df.apply(lambda row: get_tweet_question(row['variant'], row['screen_name']), axis=1)"
     ],
     "language": "python",
     "metadata": {},
     "outputs": [],
     "prompt_number": 8
    },
    {
     "cell_type": "code",
     "collapsed": false,
     "input": [
      "df[['id_str', 'variant', 'tweet_question', 'as_reply']].to_csv('data/questions_for_slate_bot.csv', encoding='utf8')"
     ],
     "language": "python",
     "metadata": {},
     "outputs": [],
     "prompt_number": 9
    },
    {
     "cell_type": "code",
     "collapsed": false,
     "input": [
      "df.tweet_question.map(len).max()"
     ],
     "language": "python",
     "metadata": {},
     "outputs": [
      {
       "metadata": {},
       "output_type": "pyout",
       "prompt_number": 10,
       "text": [
        "137"
       ]
      }
     ],
     "prompt_number": 10
    },
    {
     "cell_type": "code",
     "collapsed": false,
     "input": [
      "len(df)"
     ],
     "language": "python",
     "metadata": {},
     "outputs": [
      {
       "metadata": {},
       "output_type": "pyout",
       "prompt_number": 11,
       "text": [
        "35618"
       ]
      }
     ],
     "prompt_number": 11
    }
   ],
   "metadata": {}
  }
 ]
}